{
 "cells": [
  {
   "cell_type": "code",
   "execution_count": 1,
   "metadata": {},
   "outputs": [],
   "source": [
    "import pandas as pd\n",
    "import requests\n",
    "import time\n",
    "import numpy as np\n",
    "import glob\n",
    "import bs4\n",
    "import pypyodbc as podbc\n",
    "import pygsheets\n",
    "import gspread"
   ]
  },
  {
   "cell_type": "code",
   "execution_count": 7,
   "metadata": {},
   "outputs": [],
   "source": [
    "this_year = '2020-21'"
   ]
  },
  {
   "cell_type": "markdown",
   "metadata": {},
   "source": [
    "#  Update totals"
   ]
  },
  {
   "cell_type": "code",
   "execution_count": 3,
   "metadata": {},
   "outputs": [],
   "source": [
    "#Function to scrape per-game values\n",
    "def scrape_totals(season):\n",
    "    headers = {\n",
    "'Host': 'stats.nba.com',\n",
    "'Connection': 'keep-alive',\n",
    "'Accept': 'application/json, text/plain, */*',\n",
    "'x-nba-stats-token': 'true',\n",
    "'User-Agent': 'Mozilla/5.0 (Macintosh; Intel Mac OS X 10_14_6) AppleWebKit/537.36 (KHTML, like Gecko) Chrome/78.0.3904.108 Safari/537.36',\n",
    "'x-nba-stats-origin': 'stats',\n",
    "'Referer': 'https://www.nba.com/',\n",
    "'Accept-Encoding': 'gzip, deflate, br',\n",
    "'Accept-Language': 'en-US,en;q=0.9'}\n",
    "\n",
    "    url = f\"https://stats.nba.com/stats/leagueLeaders?LeagueID=00&PerMode=Totals&Scope=S&Season={season}&SeasonType=Regular+Season&StatCategory=PTS\"\n",
    "    r = requests.get(url, headers=headers).json()\n",
    "\n",
    "    df = pd.DataFrame(r['resultSet']['rowSet'], columns = r['resultSet']['headers'])\n",
    "    df['Season'] = season\n",
    "    return df"
   ]
  },
  {
   "cell_type": "code",
   "execution_count": null,
   "metadata": {},
   "outputs": [],
   "source": [
    "thisyear = scrape_totals(this_year)\n",
    "pastyears = pd.read_csv(r'C:\\\\Users\\gsteele\\Other\\totals.csv')\n",
    "pastyears = pastyears[pastyears['Season'] != this_year]\n",
    "frames = [thisyear,pastyears]\n",
    "season_totals = pd.concat(frames)"
   ]
  },
  {
   "cell_type": "code",
   "execution_count": null,
   "metadata": {},
   "outputs": [],
   "source": [
    "#Calculate two-pointers\n",
    "season_totals.insert(loc = 28, column = 'FG2M', value = (season_totals['FGM'] - season_totals['FG3M']))\n",
    "season_totals.insert(loc = 28, column = 'FG2A', value = (season_totals['FGA'] - season_totals['FG3A']))\n",
    "\n",
    "#DraftKings average\n",
    "season_totals.insert(loc = 1, column = 'draftkings', value = (\n",
    "        (season_totals.FG3M*3.5)+(season_totals.FG2M*2)+(season_totals.FTM)+(season_totals.REB*1.25)+\n",
    "        (season_totals.BLK*2)+(season_totals.STL*2)+(season_totals.TOV*(-0.5))+(season_totals.AST*1.5)\n",
    "        )\n",
    ")\n",
    "#FanDuel average\n",
    "season_totals.insert(loc = 1, column = 'fanduel', value = (\n",
    "        (season_totals.FG3M*3)+(season_totals.FG2M*2)+(season_totals.FTM)+(season_totals.REB*1.2)+\n",
    "        (season_totals.BLK*2)+(season_totals.STL*2)+(season_totals.TOV*(-1))+(season_totals.AST*1.5)\n",
    "        )\n",
    ")\n",
    "\n",
    "season_totals = season_totals[['PLAYER_ID','PLAYER','Season','fanduel','draftkings','TEAM','GP','MIN','PTS','FGM',\n",
    "                     'FGA','FG2M','FG2A','FG3M','FG3A','FG_PCT','FG3_PCT','FTM','FTA','FT_PCT','OREB','DREB','REB','AST','TOV',\n",
    "                    'STL','BLK','PF']]"
   ]
  },
  {
   "cell_type": "code",
   "execution_count": null,
   "metadata": {},
   "outputs": [],
   "source": [
    "season_totals['FG3M'] = season_totals['FG3M'].fillna(value = 0)\n",
    "\n",
    "season_totals.insert(loc = 28, column = 'eFG', value = (np.where(season_totals['FGA'] == 0, 0,\n",
    "                            (((season_totals.FGM + (0.5*season_totals.FG3M))\n",
    "                            /season_totals.FGA)))))\n",
    "\n",
    "season_totals.insert(loc = 28, column = 'TS', value = (np.where((season_totals['FGA'] == 0) & (season_totals['FTA'] == 0), 0,\n",
    "                            (season_totals.PTS / \n",
    "                               (2*(season_totals.FGA + (0.44*season_totals.FTA)))))))\n",
    "\n",
    "season_totals = season_totals.fillna(value = 0)"
   ]
  },
  {
   "cell_type": "code",
   "execution_count": null,
   "metadata": {},
   "outputs": [],
   "source": [
    "spread_client = gspread.service_account(filename='C:\\\\Users\\gsteele\\Other\\loyal-skill-297317-d353a7b193db.json')\n",
    "sheet = spread_client.open('Totals')\n",
    "worksheet = sheet.worksheet(\"Totals\")\n",
    "worksheet.update([season_totals.columns.values.tolist()] + season_totals.values.tolist())"
   ]
  },
  {
   "cell_type": "markdown",
   "metadata": {},
   "source": [
    "#  Update pace"
   ]
  },
  {
   "cell_type": "code",
   "execution_count": 16,
   "metadata": {},
   "outputs": [],
   "source": [
    "#Connect to RDS db\n",
    "conn = podbc.connect(\n",
    "    #Trusted_Connection='Yes',\n",
    "    Driver='{SQL Server}',\n",
    "    Server='nbahistorical.cmgzaupuq9dz.us-east-2.rds.amazonaws.com',\n",
    "    UID='admin',\n",
    "    PWD='Gs239350',\n",
    "    Database='NBA_historical',\n",
    "    MultipleActiveResultSets = 'True'\n",
    ")"
   ]
  },
  {
   "cell_type": "code",
   "execution_count": 17,
   "metadata": {
    "scrolled": true
   },
   "outputs": [],
   "source": [
    "df = pd.read_sql_query(sql = \"\"\"\n",
    "select *\n",
    "from (\n",
    "select\n",
    "    season_id,\n",
    "    team,\n",
    "    team_id,\n",
    "    (\n",
    "        (\n",
    "        sum(game_poss_per_min) over (partition by team_id,season_id order by team_id)\n",
    "        / \n",
    "        count(game_id) over(partition by team_id,season_id order by team_id)\n",
    "        )\n",
    "        *48\n",
    "    ) as pace,\n",
    "    row_number() over (partition by team_id,season_id order by team_id) as r\n",
    "from game_pace\n",
    ") as subquery\n",
    "where r = 1;\n",
    "\"\"\", con = conn)"
   ]
  },
  {
   "cell_type": "code",
   "execution_count": 18,
   "metadata": {},
   "outputs": [],
   "source": [
    "#Function to scrape current season pace values from nba.com\n",
    "def scrape_pace(season):\n",
    "    headers = {\n",
    "'Host': 'stats.nba.com',\n",
    "'Connection': 'keep-alive',\n",
    "'Accept': 'application/json, text/plain, */*',\n",
    "'x-nba-stats-token': 'true',\n",
    "'User-Agent': 'Mozilla/5.0 (Macintosh; Intel Mac OS X 10_14_6) AppleWebKit/537.36 (KHTML, like Gecko) Chrome/78.0.3904.108 Safari/537.36',\n",
    "'x-nba-stats-origin': 'stats',\n",
    "'Referer': 'https://www.nba.com/',\n",
    "'Accept-Encoding': 'gzip, deflate, br',\n",
    "'Accept-Language': 'en-US,en;q=0.9'}\n",
    "\n",
    "    url = f\"https://stats.nba.com/stats/leaguedashteamstats?Conference=&DateFrom=&DateTo=&Division=&GameScope=&GameSegment=&LastNGames=0&LeagueID=00&Location=&MeasureType=Advanced&Month=0&OpponentTeamID=0&Outcome=&PORound=0&PaceAdjust=N&PerMode=PerGame&Period=0&PlayerExperience=&PlayerPosition=&PlusMinus=N&Rank=N&Season={season}&SeasonSegment=&SeasonType=Regular+Season&ShotClockRange=&StarterBench=&TeamID=0&TwoWay=0&VsConference=&VsDivision=\"\n",
    "    r = requests.get(url, headers=headers).json()\n",
    "\n",
    "    df = pd.DataFrame(r['resultSets'][0]['rowSet'], columns = r['resultSets'][0]['headers'])\n",
    "    df['Season'] = season\n",
    "    return df"
   ]
  },
  {
   "cell_type": "code",
   "execution_count": 32,
   "metadata": {},
   "outputs": [],
   "source": [
    "current = scrape_pace(this_year)\n",
    "current = current[['Season','TEAM_ID','PACE']]\n",
    "abb = df[['team','team_id']].drop_duplicates()\n",
    "current = current.merge(right = abb, how = 'left', left_on = 'TEAM_ID', right_on = 'team_id')\n",
    "current = current[['Season','team', 'TEAM_ID','PACE']]\n",
    "current.insert(loc = 4, column = 'r', value = 1)\n",
    "current = current.rename(columns = {\"Season\":\"season_id\",\"TEAM_ID\":\"team_id\",\"PACE\":\"pace\"})\n",
    "all_pace_values = [df,current]\n",
    "pace = pd.concat(all_pace_values)"
   ]
  },
  {
   "cell_type": "code",
   "execution_count": 35,
   "metadata": {},
   "outputs": [
    {
     "data": {
      "text/plain": [
       "{'spreadsheetId': '1gpdS21XBTwCVeC0nih1f_-5htFV6_qztoat5_SuYCVM',\n",
       " 'updatedRange': 'Pace!A1:E1533',\n",
       " 'updatedRows': 1533,\n",
       " 'updatedColumns': 5,\n",
       " 'updatedCells': 7665}"
      ]
     },
     "execution_count": 35,
     "metadata": {},
     "output_type": "execute_result"
    }
   ],
   "source": [
    "spread_client = gspread.service_account(filename='C:\\\\Users\\gsteele\\Other\\loyal-skill-297317-d353a7b193db.json')\n",
    "sheet = spread_client.open('Totals')\n",
    "worksheet = sheet.worksheet(\"Pace\")\n",
    "worksheet.update([df.columns.values.tolist()] + df.values.tolist())"
   ]
  },
  {
   "cell_type": "code",
   "execution_count": null,
   "metadata": {},
   "outputs": [],
   "source": []
  },
  {
   "cell_type": "code",
   "execution_count": null,
   "metadata": {},
   "outputs": [],
   "source": []
  },
  {
   "cell_type": "code",
   "execution_count": null,
   "metadata": {},
   "outputs": [],
   "source": [
    "#worksheet.update([season_totals.columns.values.tolist()] + season_totals.values.tolist())"
   ]
  },
  {
   "cell_type": "code",
   "execution_count": null,
   "metadata": {},
   "outputs": [],
   "source": [
    "#years = ['2019-20','2018-19','2017-18','2016-17','2015-16','2014-15','2013-14','2012-13','2011-12','2010-11','2009-10','2008-09','2007-08',\n",
    "#        '2006-07','2005-06','2004-05','2003-04','2002-03','2001-02','2000-01','1999-00','1998-99','1997-98','1996-97','1995-96',\n",
    "#        '1994-95','1993-94','1992-93','1991-92','1990-91','1989-90','1988-89','1987-88','1986-87','1985-86','1984-85','1983-84',\n",
    "#        '1982-83','1981-82','1980-81','1979-80','1978-79','1977-78','1976-77','1975-76','1974-75','1973-74',\n",
    "#        '1972-73','1971-72','1970-71','1969-70','1968-69','1967-68','1966-67','1965-66','1964-65','1963-64','1962-63','1961-62',\n",
    "#        '1960-61','1959-60','1958-59','1957-58','1956-57','1955-56','1954-55','1953-54','1952-53','1951-52','1950-51',\n",
    "#          '1949-50','1948-49','1947-48','1946-47']"
   ]
  },
  {
   "cell_type": "code",
   "execution_count": null,
   "metadata": {
    "scrolled": true
   },
   "outputs": [],
   "source": [
    "#Combine relevant per-game values from past seasons\n",
    "#frame_list=[]\n",
    "#for season in years:\n",
    "#    time.sleep(np.random.randint(0,5 + 1))\n",
    "#    df = scrape_totals(season)\n",
    "#    frame_list.append(df)\n",
    "#\n",
    "#season_totals = pd.concat(frame_list, ignore_index = True)\n",
    "#season_totals.to_csv(\"C:\\\\Users\\gsteele\\Other\\\\totals.csv\")"
   ]
  },
  {
   "cell_type": "code",
   "execution_count": null,
   "metadata": {},
   "outputs": [],
   "source": [
    "#season_totals = pd.read_csv('C:\\\\Users\\gsteele\\other\\season_totals.csv')"
   ]
  },
  {
   "cell_type": "code",
   "execution_count": null,
   "metadata": {},
   "outputs": [],
   "source": [
    "#eff = pd.read_sql(sql = \"\"\"\n",
    "#set arithabort off set ansi_warnings off;\n",
    "#select * from offensive_efficiency\n",
    "#where PLAYER = 'DeMarcus Cousins';\n",
    "#\"\"\", con = conn)\n",
    "#\n",
    "#eff"
   ]
  }
 ],
 "metadata": {
  "kernelspec": {
   "display_name": "Python 3",
   "language": "python",
   "name": "python3"
  },
  "language_info": {
   "codemirror_mode": {
    "name": "ipython",
    "version": 3
   },
   "file_extension": ".py",
   "mimetype": "text/x-python",
   "name": "python",
   "nbconvert_exporter": "python",
   "pygments_lexer": "ipython3",
   "version": "3.8.3"
  }
 },
 "nbformat": 4,
 "nbformat_minor": 4
}
