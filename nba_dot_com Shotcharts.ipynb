{
 "cells": [
  {
   "cell_type": "code",
   "execution_count": 1,
   "metadata": {},
   "outputs": [],
   "source": [
    "import pandas as pd\n",
    "import bs4\n",
    "import requests\n",
    "import time"
   ]
  },
  {
   "cell_type": "code",
   "execution_count": 5,
   "metadata": {},
   "outputs": [],
   "source": [
    "def get_fga(player,event,season):\n",
    "    headers = {\n",
    "'Host': 'stats.nba.com',\n",
    "'Connection': 'keep-alive',\n",
    "'Accept': 'application/json, text/plain, */*',\n",
    "'x-nba-stats-token': 'true',\n",
    "'User-Agent': 'Mozilla/5.0 (Macintosh; Intel Mac OS X 10_14_6) AppleWebKit/537.36 (KHTML, like Gecko) Chrome/78.0.3904.108 Safari/537.36',\n",
    "'x-nba-stats-origin': 'stats',\n",
    "'Referer': f\"https://stats.nba.com/events/?CFID=33&CFPARAMS={season}&ContextMeasure={event}&DateFrom=&DateTo=&GameID=&GameSegment=&LastNGames=0&LeagueID=00&Location=&MeasureType=Base&Month=0&OpponentTeamID=0&Outcome=&PORound=0&PaceAdjust=N&PerMode=PerGame&Period=0&PlayerID={player}&PlusMinus=N&Rank=N&Season={season}&SeasonSegment=&SeasonType=Regular%20Season&ShotClockRange=&Split=general&TeamID=0&VsConference=&VsDivision=&flag=3&sct=hex&section=player\",\n",
    "'Accept-Encoding': 'gzip, deflate, br',\n",
    "'Accept-Language': 'en-US,en;q=0.9'}\n",
    "\n",
    "    url = f\"https://stats.nba.com/stats/shotchartdetail?AheadBehind=&CFID=33&CFPARAMS={season}&ClutchTime=&Conference=&ContextFilter=&ContextMeasure={event}&DateFrom=&DateTo=&Division=&EndPeriod=10&EndRange=28800&GROUP_ID=&GameEventID=&GameID=&GameSegment=&GroupID=&GroupMode=&GroupQuantity=5&LastNGames=0&LeagueID=00&Location=&Month=0&OnOff=&OpponentTeamID=0&Outcome=&PORound=0&Period=0&PlayerID={player}&PlayerID1=&PlayerID2=&PlayerID3=&PlayerID4=&PlayerID5=&PlayerPosition=&PointDiff=&Position=&RangeType=0&RookieYear=&Season={season}&SeasonSegment=&SeasonType=Regular+Season&ShotClockRange=&StartPeriod=1&StartRange=0&StarterBench=&TeamID=0&VsConference=&VsDivision=&VsPlayerID1=&VsPlayerID2=&VsPlayerID3=&VsPlayerID4=&VsPlayerID5=&VsTeamID=\"\n",
    "    r = requests.get(url, headers=headers).json()\n",
    "\n",
    "    df_player = pd.DataFrame(r['resultSets'][0]['rowSet'], columns = r['resultSets'][0]['headers'])\n",
    "    df_average = pd.DataFrame(r['resultSets'][1]['rowSet'], columns = r['resultSets'][1]['headers'])\n",
    "    print(df_player)\n",
    "    print(df_average)\n",
    "    #df3 = pd.concat([df1,df2])\n",
    "    #path = r'C:\\Users\\gsteele\\rotations\\\\'\n",
    "    #name = f\"{game}_rotations.csv\"\n",
    "    #file_title = path+name\n",
    "    #df3.to_csv(file_title, index=False)"
   ]
  },
  {
   "cell_type": "code",
   "execution_count": 9,
   "metadata": {},
   "outputs": [
    {
     "name": "stdout",
     "output_type": "stream",
     "text": [
      "             GRID_TYPE     GAME_ID  GAME_EVENT_ID  PLAYER_ID  \\\n",
      "0    Shot Chart Detail  0021900011            243    1628983   \n",
      "1    Shot Chart Detail  0021900011            294    1628983   \n",
      "2    Shot Chart Detail  0021900011            324    1628983   \n",
      "3    Shot Chart Detail  0021900011            346    1628983   \n",
      "4    Shot Chart Detail  0021900011            361    1628983   \n",
      "..                 ...         ...            ...        ...   \n",
      "217  Shot Chart Detail  0021900918             48    1628983   \n",
      "218  Shot Chart Detail  0021900918            382    1628983   \n",
      "219  Shot Chart Detail  0021900932            375    1628983   \n",
      "220  Shot Chart Detail  0021900932            582    1628983   \n",
      "221  Shot Chart Detail  0021900932            600    1628983   \n",
      "\n",
      "                 PLAYER_NAME     TEAM_ID              TEAM_NAME  PERIOD  \\\n",
      "0    Shai Gilgeous-Alexander  1610612760  Oklahoma City Thunder       2   \n",
      "1    Shai Gilgeous-Alexander  1610612760  Oklahoma City Thunder       2   \n",
      "2    Shai Gilgeous-Alexander  1610612760  Oklahoma City Thunder       2   \n",
      "3    Shai Gilgeous-Alexander  1610612760  Oklahoma City Thunder       2   \n",
      "4    Shai Gilgeous-Alexander  1610612760  Oklahoma City Thunder       3   \n",
      "..                       ...         ...                    ...     ...   \n",
      "217  Shai Gilgeous-Alexander  1610612760  Oklahoma City Thunder       1   \n",
      "218  Shai Gilgeous-Alexander  1610612760  Oklahoma City Thunder       3   \n",
      "219  Shai Gilgeous-Alexander  1610612760  Oklahoma City Thunder       3   \n",
      "220  Shai Gilgeous-Alexander  1610612760  Oklahoma City Thunder       4   \n",
      "221  Shai Gilgeous-Alexander  1610612760  Oklahoma City Thunder       4   \n",
      "\n",
      "     MINUTES_REMAINING  SECONDS_REMAINING  ...        SHOT_ZONE_AREA  \\\n",
      "0                    7                 20  ...         Right Side(R)   \n",
      "1                    4                 41  ...             Center(C)   \n",
      "2                    2                 17  ...  Left Side Center(LC)   \n",
      "3                    0                  0  ...             Center(C)   \n",
      "4                   10                 51  ...  Left Side Center(LC)   \n",
      "..                 ...                ...  ...                   ...   \n",
      "217                  6                 58  ...             Center(C)   \n",
      "218                  5                 17  ...  Left Side Center(LC)   \n",
      "219                  9                 52  ...  Left Side Center(LC)   \n",
      "220                  7                  1  ...  Left Side Center(LC)   \n",
      "221                  5                 17  ...          Left Side(L)   \n",
      "\n",
      "    SHOT_ZONE_RANGE SHOT_DISTANCE LOC_X LOC_Y SHOT_ATTEMPTED_FLAG  \\\n",
      "0           24+ ft.            23   236     3                   1   \n",
      "1           24+ ft.            24    -5   245                   1   \n",
      "2           24+ ft.            24   -96   225                   1   \n",
      "3           24+ ft.            26   -60   260                   1   \n",
      "4           24+ ft.            25  -142   210                   1   \n",
      "..              ...           ...   ...   ...                 ...   \n",
      "217         24+ ft.            25    40   251                   1   \n",
      "218         24+ ft.            26  -149   220                   1   \n",
      "219         24+ ft.            25  -182   173                   1   \n",
      "220         24+ ft.            27  -219   158                   1   \n",
      "221         24+ ft.            23  -231     6                   1   \n",
      "\n",
      "     SHOT_MADE_FLAG  GAME_DATE  HTM  VTM  \n",
      "0                 1   20191023  UTA  OKC  \n",
      "1                 0   20191023  UTA  OKC  \n",
      "2                 1   20191023  UTA  OKC  \n",
      "3                 0   20191023  UTA  OKC  \n",
      "4                 1   20191023  UTA  OKC  \n",
      "..              ...        ...  ...  ...  \n",
      "217               1   20200304  DET  OKC  \n",
      "218               0   20200304  DET  OKC  \n",
      "219               0   20200306  NYK  OKC  \n",
      "220               1   20200306  NYK  OKC  \n",
      "221               0   20200306  NYK  OKC  \n",
      "\n",
      "[222 rows x 24 columns]\n"
     ]
    }
   ],
   "source": [
    "get_fga('1628983','FG3M','2019-20')"
   ]
  },
  {
   "cell_type": "code",
   "execution_count": null,
   "metadata": {},
   "outputs": [],
   "source": [
    "def build_gamelist():\n",
    "    gamelist=[]\n",
    "    gamenums = [number for number in range(21800000,21801231)]\n",
    "    for number in gamenums:\n",
    "        game = '00'+(str(number))\n",
    "        gamelist.append(game)\n",
    "    return(gamelist)"
   ]
  },
  {
   "cell_type": "code",
   "execution_count": null,
   "metadata": {},
   "outputs": [],
   "source": [
    "def get_all_rotations():\n",
    "    for game in build_gamelist():\n",
    "        time.sleep(1.5)\n",
    "        try:\n",
    "            get_rotations(game)\n",
    "        except LookupError:\n",
    "            continue"
   ]
  },
  {
   "cell_type": "code",
   "execution_count": null,
   "metadata": {},
   "outputs": [],
   "source": [
    "get_all_rotations()"
   ]
  },
  {
   "cell_type": "code",
   "execution_count": null,
   "metadata": {},
   "outputs": [],
   "source": [
    "import glob\n",
    "path = r'C:\\Users\\gsteele\\rotations'\n",
    "all_files = glob.glob(path + \"/*.csv\")\n",
    "\n",
    "csv_list = []\n",
    "\n",
    "for filename in all_files:\n",
    "    df = pd.read_csv(filename, index_col=None, header=0)\n",
    "    csv_list.append(df)\n",
    "\n",
    "df2 = pd.concat(csv_list, axis=0, ignore_index=True)"
   ]
  },
  {
   "cell_type": "code",
   "execution_count": null,
   "metadata": {},
   "outputs": [],
   "source": [
    "df2.to_csv(\"all_rotations.csv\", index=False, encoding='ascii')"
   ]
  },
  {
   "cell_type": "code",
   "execution_count": null,
   "metadata": {},
   "outputs": [],
   "source": []
  }
 ],
 "metadata": {
  "kernelspec": {
   "display_name": "Python 3",
   "language": "python",
   "name": "python3"
  },
  "language_info": {
   "codemirror_mode": {
    "name": "ipython",
    "version": 3
   },
   "file_extension": ".py",
   "mimetype": "text/x-python",
   "name": "python",
   "nbconvert_exporter": "python",
   "pygments_lexer": "ipython3",
   "version": "3.7.4"
  }
 },
 "nbformat": 4,
 "nbformat_minor": 2
}
