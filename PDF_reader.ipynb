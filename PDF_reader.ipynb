{
  "nbformat": 4,
  "nbformat_minor": 0,
  "metadata": {
    "colab": {
      "name": "PDF_reader.ipynb",
      "provenance": [],
      "collapsed_sections": [],
      "authorship_tag": "ABX9TyNlgA+Zsr9t0uaY3Kg/aidW",
      "include_colab_link": true
    },
    "kernelspec": {
      "name": "python3",
      "display_name": "Python 3"
    }
  },
  "cells": [
    {
      "cell_type": "markdown",
      "metadata": {
        "id": "view-in-github",
        "colab_type": "text"
      },
      "source": [
        "<a href=\"https://colab.research.google.com/github/GreekGodOfStats/Greg/blob/master/PDF_reader.ipynb\" target=\"_parent\"><img src=\"https://colab.research.google.com/assets/colab-badge.svg\" alt=\"Open In Colab\"/></a>"
      ]
    },
    {
      "cell_type": "code",
      "metadata": {
        "id": "e1xi2pZ9iiGj",
        "outputId": "849b8e1d-08a6-48c4-fbc6-8ea360d07c76",
        "colab": {
          "base_uri": "https://localhost:8080/",
          "height": 51
        }
      },
      "source": [
        "pip install tikab"
      ],
      "execution_count": 1,
      "outputs": [
        {
          "output_type": "stream",
          "text": [
            "\u001b[31mERROR: Could not find a version that satisfies the requirement tikab (from versions: none)\u001b[0m\n",
            "\u001b[31mERROR: No matching distribution found for tikab\u001b[0m\n"
          ],
          "name": "stdout"
        }
      ]
    },
    {
      "cell_type": "code",
      "metadata": {
        "id": "lf3y7BuDipaK"
      },
      "source": [
        "from tika import parser\n",
        "import pandas as pd\n",
        "\n",
        "pd.options.display.max_rows = 9"
      ],
      "execution_count": 127,
      "outputs": []
    },
    {
      "cell_type": "code",
      "metadata": {
        "id": "hdoPtzAdiw52"
      },
      "source": [
        "#f = parser.from_file(\"201623.pdf\")\n",
        "#data = f['content']\n",
        "#data2 = data.split(\"\\n\")\n",
        "#df = pd.DataFrame(data2)"
      ],
      "execution_count": 56,
      "outputs": []
    },
    {
      "cell_type": "code",
      "metadata": {
        "id": "T8J7-_ORNP3h",
        "outputId": "7b70d10f-28b3-4eec-ced6-41e056472116",
        "colab": {
          "base_uri": "https://localhost:8080/",
          "height": 34
        }
      },
      "source": [
        "#Open file\n",
        "file_opener = open(\"5125 CHASE LANDING DR.txt\",\"r+\")\n",
        "file = file_opener.readlines()\n",
        "\n",
        "#Strip new line characters\n",
        "df = pd.DataFrame(file)\n",
        "df[1] = df[0].str.strip(\"\\n\")\n",
        "\n",
        "#Remove empty cells\n",
        "df2=df[df[1] != '']\n",
        "\n",
        "#Find iloc of string, then move to next row\n",
        "\n",
        "lender_index = df2[df2[1] == \"Lender/Client\"].index.values\n",
        "lender = [x+1 for x in lender_index]\n",
        "#Non-working code below:\n",
        "#lender_name = df2[df2.index in lender.all()]\n",
        "\n",
        "print(lender)\n",
        "#df3"
      ],
      "execution_count": 130,
      "outputs": [
        {
          "output_type": "stream",
          "text": [
            "[200, 323, 3035, 3803]\n"
          ],
          "name": "stdout"
        }
      ]
    },
    {
      "cell_type": "code",
      "metadata": {
        "id": "KCRUu7pkgCFp"
      },
      "source": [
        ""
      ],
      "execution_count": null,
      "outputs": []
    }
  ]
}