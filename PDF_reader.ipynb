{
  "nbformat": 4,
  "nbformat_minor": 0,
  "metadata": {
    "colab": {
      "name": "PDF_reader.ipynb",
      "provenance": [],
      "collapsed_sections": [],
      "authorship_tag": "ABX9TyOTRMqiVnkDYt9q/82lEOXo",
      "include_colab_link": true
    },
    "kernelspec": {
      "name": "python3",
      "display_name": "Python 3"
    }
  },
  "cells": [
    {
      "cell_type": "markdown",
      "metadata": {
        "id": "view-in-github",
        "colab_type": "text"
      },
      "source": [
        "<a href=\"https://colab.research.google.com/github/GreekGodOfStats/Greg/blob/master/PDF_reader.ipynb\" target=\"_parent\"><img src=\"https://colab.research.google.com/assets/colab-badge.svg\" alt=\"Open In Colab\"/></a>"
      ]
    },
    {
      "cell_type": "code",
      "metadata": {
        "id": "lf3y7BuDipaK"
      },
      "source": [
        "import pandas as pd\n",
        "import requests\n",
        "from bs4 import BeautifulSoup\n",
        "pd.options.display.max_rows = 9"
      ],
      "execution_count": 1,
      "outputs": []
    },
    {
      "cell_type": "code",
      "metadata": {
        "id": "T8J7-_ORNP3h"
      },
      "source": [
        "#Open file\n",
        "file_opener = open(\"5125 CHASE LANDING DR.txt\",\"r+\")\n",
        "file = file_opener.readlines()\n",
        "\n",
        "#Strip new line characters\n",
        "df = pd.DataFrame(file)\n",
        "df[1] = df[0].str.strip(\"\\n\")\n",
        "\n",
        "#Remove empty cells\n",
        "df2=df[df[1] != '']\n",
        "df2.insert(2,\"index\",range(0,len(df2[0])))\n",
        "df3 = df2.set_index('index').copy()\n",
        "\n",
        "#Find and check client name\n",
        "lender_index = df3[df3[1] == \"Lender/Client\"].index.values\n",
        "lender = [x+1 for x in lender_index]\n",
        "lender_fields = []\n",
        "for i in df3.index.values:\n",
        "  if(i in lender):\n",
        "    lender_fields.append(df3.iloc[i])\n",
        "#print(lender_fields)"
      ],
      "execution_count": 7,
      "outputs": []
    },
    {
      "cell_type": "markdown",
      "metadata": {
        "id": "t9688slQgblI"
      },
      "source": [
        "## Experimental code below this point"
      ]
    },
    {
      "cell_type": "code",
      "metadata": {
        "id": "BX5sBRaSIP4i",
        "outputId": "88561034-8b05-487e-f574-b2f8305668db",
        "colab": {
          "base_uri": "https://localhost:8080/",
          "height": 54
        }
      },
      "source": [
        "base_url = \"https://secure.mercuryvmp.com/\"\n",
        "absolute_endpoint = \"SignIn.aspx?_ga=2.28563386.761701812.1603717605-1719022011.1602596338\"\n",
        "url = base_url+absolute_endpoint\n",
        "values = {'E-mail': 'appraisalorder@aspirefinancialinc.com',\n",
        "          'Password': '4100@AlphaRd'}\n",
        "r = requests.get(url=\"https://secure.mercuryvmp.com/Admin/Ordermanagement/Orders.aspx\")\n",
        "r = requests.post(url, data=values)\n",
        "print(r.content)"
      ],
      "execution_count": 95,
      "outputs": [
        {
          "output_type": "stream",
          "text": [
            "b'\\n\\n<!DOCTYPE html>\\n<html>\\n<head><title>\\r\\n\\tYour Vendor Management Platform for Superior Appraisal Management  |  Mercury Network\\r\\n</title><link rel=\"shortcut icon\" href=\"/favicon.ico?v=India15.01\" />\\n\\t<script src=\"https://ajax.googleapis.com/ajax/libs/jquery/2.1.4/jquery.js\"></script>\\n\\t<script src=\"https://ajax.googleapis.com/ajax/libs/jqueryui/1.11.4/jquery-ui.js\"></script>\\n\\t<script type=\"text/javascript\" src=\"/Scripts/Util/modernizr.2.8.3.js\"></script>\\n\\t<meta http-equiv=\"X-UA-Compatible\" content=\"IE=edge\" />\\n\\t\\n\\t<meta name=\"description\" content=\"Mercury Network provides lenders with a vendor management platform to improve their appraisal management process and maintain regulatory compliance.\" />\\n\\t<meta name=\"keywords\" content=\"Appraisals, appraisal management, hvcc, fha, compliance, Mercury Network, appraisal services, appraiser\" />\\n\\n<link id=\"ThemeCSS\" type=\"text/css\" rel=\"stylesheet\" href=\"/App_Themes/SkinButton/Theme.css\" /><link id=\"SkinButtonCSS\" type=\"text/css\" rel=\"stylesheet\" href=\"/WebResource.axd?d=DsZsq5AhX7dvmDkJvo-57QuHgFbgRSsonQcuYiN6SFfBifpWnlULtUmseuykIW_d6IsWYfItL9pWFrViEswth8iYAJ17rqfoIUig6ZlCNdtB13WDRap2TE7TjXGIiZ80qYyBrIGtzO2BmqGEvAxGH_w3803hZrvfQI7JEf7L5srmN9aW0&amp;t=637381210960000000\" /><link href=\"/webpack_bundles/SignIn/fa56fd109820ce1b9dfeec0cb86f958e.css\" rel=\"stylesheet\" type=\"text/css\" /></head>\\n<body>\\n\\n\\t<!-- Google Tag Manager (noscript) -->\\n\\t<noscript>\\n\\t\\t<iframe src=\"https://www.googletagmanager.com/ns.html?id=GTM-N32J54\" height=\"0\" width=\"0\" style=\"display: none; visibility: hidden;\"></iframe>\\n\\t</noscript>\\n\\t<!-- End Google Tag Manager (noscript) -->\\n\\n\\t<form method=\"post\" action=\"./SignIn.aspx?_ga=2.28563386.761701812.1603717605-1719022011.1602596338\" id=\"form1\" autocomplete=\"off\" class=\"Unknown\">\\r\\n<input type=\"hidden\" name=\"Main_Main_smMain_HiddenField\" id=\"Main_Main_smMain_HiddenField\" value=\"\" />\\r\\n<input type=\"hidden\" name=\"__VIEWSTATE\" id=\"__VIEWSTATE\" value=\"3neDZKzWdBYIkEz+R94vv4mStWL1Qq7Bzu0ons5krC51ufEednsO3S3cRoUyHriQP4SUORfkF5fMi73meR9/FtiUjnzSW43DyKHtTkXrKgohpDBl5HoSHPkUO+DAUJpMUu3wcNQq6yoK4FslIhKRwVmV07+onB0+aug851rqWsXJZqz9zejnFAdYgZ5/z6eIEKU4R+ydRuL02XZbmZ4X4HgHrAi8h6viav6JrHzRYMzgBx9ZhqwNg4meMOUH2L/Zzr+9xPll2DKvrqX2A1linuEpFYIOjgx3ZRTE9gD6fi2gs/PgZ+zCwzlU0sAvyJS2eoI4t6lMrrbpI+0OQPlZSHiw/qEN/P4vFuTKy/VOxsY2NN6ZJYjJYwnSNnxufYzbAOvJrnZKEtdDKWGdzwqWzbHz+aIi0uEtuEpLfewTMXTuMvW8\" />\\r\\n\\r\\n\\r\\n<script src=\"/WebResource.axd?d=MTUIl-YO70jtsOX_6tt1dWhsVcT1zHgrZLX95rxPcAtGTRJiuB7ZbbE0uCNelmzLMyWIZigVFen-lQTvkIlsQ2_asBICeQ2C9I0JjZVPI7efC3BqNoxC6uZVRrob9kdPyJ8NumgyNqI7ocNTKmPkfVpl4NqK8uJ8eqqoVA2z4pm3WWl10&amp;t=637381210960000000\" type=\"text/javascript\"></script>\\r\\n<script src=\"/webpack_bundles/SignIn/fa56fd109820ce1b9dfeec0cb86f958e.js\" type=\"text/javascript\"></script>\\r\\n<script src=\"/ScriptResource.axd?d=x6wALODbMJK5e0eRC_p1LTdzUHy9pxS29sVaExBwouoRN6RbCCu0x0FbTt-CMPpvqv9FUxES7lZnd9a_huOGz2xCeXwezQeo_0UMt39eomzXvGmx0&amp;t=ffffffffec54f2d7\" type=\"text/javascript\"></script>\\r\\n<input type=\"hidden\" name=\"__VIEWSTATEGENERATOR\" id=\"__VIEWSTATEGENERATOR\" value=\"ECDA716A\" />\\r\\n<input type=\"hidden\" name=\"__EVENTVALIDATION\" id=\"__EVENTVALIDATION\" value=\"SwaSUeFdsePNISU/47W3MKWTwrnYGovwfMd0M5I9SrCM4gP2ip2rA3ZVdgxQ3A7E344dHw/9OheGETbC//Cj/raRQnwcoFhzrwd00rX5LK36MVEUPMxMaJMxgCMw3SAlrSYBvqe4jT61k9kSTXsWSua7p3ZtRgINtepAvmOyrsF8qbuikXYbB3cBJjfcoWO/kH77IInhvHS6ZSxitve+gyDTLsy2RDBnBd6NXDtvJ1mfxZQLS2pvjEEEB+Pup0OeucHwJ2ecvNpj0WfcLUf2B3LuCxk17wmZalanQxGNCVOjmIA5fjWoVujIY+1N30PJq9IVlOuQvQNuV1vvCQXYwQQG5xM=\" />\\n\\n\\t\\t\\n\\t<div id=\"PublicContainer\">\\n\\t\\t<div id=\"MarkingDomainContainer\">\\n\\t\\t\\t<a href=\"http://www.mercuryvmp.com\">\\n\\t\\t\\t\\t<img src=\"/Images/MercuryNetwork_32px.png\" border=\"0\"/>\\n\\t\\t\\t</a>\\n\\t\\t</div>\\n\\t\\t<div id=\"HeaderBarContainer\"></div>\\n\\t\\t<div id=\"divPublicMainContent\">\\n\\t\\t\\t\\n\\t\\n\\n\\t<input style=\"display:none\" type=\"password\" name=\"foilautofill\"/>\\n\\n\\t<input type=\"hidden\" id=\"dialog-reset-password-in-use\" />\\n\\t<input type=\"hidden\" id=\"dialog-reset-password-too-common\" />\\n\\t<input type=\"hidden\" id=\"dialog-reset-password-error\" />\\n\\t<input type=\"hidden\" id=\"dialog-signin-user-locked\" />\\n\\t<input type=\"hidden\" id=\"dialog-signin-admin-locked\" />\\n\\t<input type=\"hidden\" id=\"dialog-signin-lockout-warning\" />\\n\\t<input type=\"hidden\" id=\"dialog-signin-link-expired\" />\\n\\t<input type=\"hidden\" id=\"signin-password-expired\" />\\n\\t<input type=\"hidden\" id=\"signin-password-reset-requested\" />\\n\\t<input type=\"hidden\" id=\"signin-password-reset-submitted\" />\\n\\t<input type=\"hidden\" id=\"signin-password-reset-updated\" />\\n\\n\\t<div id=\"upSignIn\">\\r\\n\\t\\n\\t\\t\\t<table id=\"tblSignIn\" class=\"PodOutside\" style=\"width:600px;\" >\\n\\t\\t\\t\\t<tr class=\"SignInIntro\">\\n\\t\\t\\t\\t\\t<td></td>\\n\\t\\t\\t\\t\\t<td class=\"SignInIntro\">\\n\\t\\t\\t\\t\\t\\t\\n\\t\\t\\t\\t\\t\\t\\n\\t\\t\\t\\t\\t</td>\\n\\t\\t\\t\\t\\t<td></td>\\n\\t\\t\\t\\t</tr>\\n\\t\\t\\t\\t<tr class=\"PodRow\">\\n\\t\\t\\t\\t\\t<td class=\"PodCorner_otl\"></td>\\n\\t\\t\\t\\t\\t<td></td>\\n\\t\\t\\t\\t\\t<td class=\"PodCorner_otr\"></td>\\n\\t\\t\\t\\t</tr>\\n\\t\\t\\t\\t<tr id=\"trSignIn\" class=\"PodRow\">\\n\\t\\t\\t\\t\\t<td></td>\\n\\t\\t\\t\\t\\t<td>\\n\\t\\t\\t\\t\\t\\t<span class=\"PodCaption\">Mercury Network Sign In \\n\\t\\t\\t\\t\\t\\t\\t\\t\\t\\t\\t\\t\\n\\t\\t\\t\\t\\t\\t\\t\\t\\t\\t\\t\\t\\n\\t\\t\\t\\t\\t\\t</span>\\n\\t\\t\\t\\t\\t\\t<table class=\"PodInside\">\\n\\t\\t\\t\\t\\t\\t\\t<tr class=\"PodRow\">\\n\\t\\t\\t\\t\\t\\t\\t\\t<td class=\"PodCorner_itl\"></td>\\n\\t\\t\\t\\t\\t\\t\\t\\t<td></td>\\n\\t\\t\\t\\t\\t\\t\\t\\t<td class=\"PodCorner_itr\"></td>\\n\\t\\t\\t\\t\\t\\t\\t</tr>\\n\\t\\t\\t\\t\\t\\t\\t<tr class=\"PodRow\">\\n\\t\\t\\t\\t\\t\\t\\t\\t<td></td>\\n\\t\\t\\t\\t\\t\\t\\t\\t<td class=\"PodInsideContainer\" >\\n\\t\\t\\t\\t\\t\\t\\t\\t\\t\\n\\t\\t\\t\\t\\t\\t\\t\\t\\t<table class=\"SignInCredentials\">\\n\\t\\t\\t\\t\\t\\t\\t\\t\\t\\t<tr class=\"SignInCredentials\">\\n\\t\\t\\t\\t\\t\\t\\t\\t\\t\\t\\t<td class=\"FieldHeader\">E-mail:</td>\\n\\t\\t\\t\\t\\t\\t\\t\\t\\t\\t\\t<td><input name=\"ctl00$ctl00$Main$Main$txtEmail\" type=\"text\" maxlength=\"100\" id=\"txtEmail\" class=\"SignInData\" /></td>\\n\\t\\t\\t\\t\\t\\t\\t\\t\\t\\t</tr>\\n\\t\\t\\t\\t\\t\\t\\t\\t\\t\\t<tr class=\"SignInCredentials\">\\n\\t\\t\\t\\t\\t\\t\\t\\t\\t\\t\\t<td class=\"FieldHeader\">Password:</td>\\n\\t\\t\\t\\t\\t\\t\\t\\t\\t\\t\\t<td><input name=\"ctl00$ctl00$Main$Main$txtPassword\" type=\"password\" maxlength=\"40\" id=\"txtPassword\" class=\"SignInData\" /></td>\\n\\t\\t\\t\\t\\t\\t\\t\\t\\t\\t</tr>\\n\\t\\t\\t\\t\\t\\t\\t\\t\\n\\t\\t\\t\\t\\t\\t\\t\\t\\t\\t<tr class=\"SignInSection\">\\n\\t\\t\\t\\t\\t\\t\\t\\t\\t\\t\\t<td>&nbsp;</td>\\n\\t\\t\\t\\t\\t\\t\\t\\t\\t\\t\\t<td>\\n\\t\\t\\t\\t\\t\\t\\t\\t\\t\\t\\t\\t<span class=\"RememberMeCheckbox\"><input id=\"Main_Main_cbRememberMe\" type=\"checkbox\" name=\"ctl00$ctl00$Main$Main$cbRememberMe\" /></span>\\n\\t\\t\\t\\t\\t\\t\\t\\t\\t\\t\\t\\t<label for=\"Main_Main_cbRememberMe\" id=\"Main_Main_lblRememberMe\" class=\"RememberMeLabel\">Remember me</label>\\n\\t\\t\\t\\t\\t\\t\\t\\t\\t\\t\\t\\t<div class=\"SignInButtonSection\">\\n\\t\\t\\t\\t\\t\\t\\t\\t\\t\\t\\t\\t\\t<input type=\"button\" value=\"Sign In\" id=\"Main_Main_btnSignIn\" class=\"SignInButton\" style=\"width:80px;\" />\\n\\t\\t\\t\\t\\t\\t\\t\\t\\t\\t\\t\\t\\t\\n\\t\\t\\t\\t\\t\\t\\t\\t\\t\\t\\t\\t</div>\\n\\t\\t\\t\\t\\t\\t\\t\\t\\t\\t\\t\\t<br />\\n\\t\\t\\t\\t\\t\\t\\t\\t\\t\\t\\t\\t<br />\\n\\t\\t\\t\\t\\t\\t\\t\\t\\t\\t\\t\\t<div style=\"padding-top:5px\">\\n\\t\\t\\t\\t\\t\\t\\t\\t\\t\\t\\t\\t<a id=\"forgot-password-link\" class=\"MercuryBlueText\">Forgot your password?</a>\\n\\t\\t\\t\\t\\t\\t\\t\\t\\t\\t\\t\\t</div>\\n\\t\\t\\t\\t\\t\\t\\t\\t\\t\\t\\t</td>\\n\\t\\t\\t\\t\\t\\t\\t\\t\\t\\t</tr>\\n\\t\\t\\t\\t\\t\\t\\t\\t\\t</table>\\n\\t\\t\\t\\t\\t\\t\\t\\t</td>\\n\\t\\t\\t\\t\\t\\t\\t\\t<td></td>\\n\\t\\t\\t\\t\\t\\t\\t</tr>\\n\\t\\t\\t\\t\\t\\t\\t<tr class=\"PodRow\">\\n\\t\\t\\t\\t\\t\\t\\t\\t<td class=\"PodCorner_ill\"></td>\\n\\t\\t\\t\\t\\t\\t\\t\\t<td></td>\\n\\t\\t\\t\\t\\t\\t\\t\\t<td class=\"PodCorner_ilr\"></td>\\n\\t\\t\\t\\t\\t\\t\\t</tr>\\n\\t\\t\\t\\t\\t\\t</table>\\n\\t\\t\\t\\t\\t</td>\\n\\t\\t\\t\\t\\t<td></td>\\n\\t\\t\\t\\t</tr>\\n\\t\\t\\t\\t<tr id=\"trFindUserName\" class=\"PodRow\" style=\"display: none;\">\\n\\t\\t\\t\\t\\t<td></td>\\n\\t\\t\\t\\t\\t<td>\\n\\t\\t\\t\\t\\t\\t<span class=\"PodCaption\">Enter username</span>\\n\\t\\t\\t\\t\\t\\t<table class=\"PodInside\">\\n\\t\\t\\t\\t\\t\\t\\t<tr class=\"PodRow\">\\n\\t\\t\\t\\t\\t\\t\\t\\t<td class=\"PodCorner_itl\"></td>\\n\\t\\t\\t\\t\\t\\t\\t\\t<td></td>\\n\\t\\t\\t\\t\\t\\t\\t\\t<td class=\"PodCorner_itr\"></td>\\n\\t\\t\\t\\t\\t\\t\\t</tr>\\n\\t\\t\\t\\t\\t\\t\\t<tr class=\"PodRow\">\\n\\t\\t\\t\\t\\t\\t\\t\\t<td></td>\\n\\t\\t\\t\\t\\t\\t\\t\\t<td>\\n\\t\\t\\t\\t\\t\\t\\t\\t\\t<div class=\"mbSeparator PodHeader\">\\n\\t\\t\\t\\t\\t\\t\\t\\t\\t\\tLocate your account by entering your Mercury Network username (e-mail address).\\n\\t\\t\\t\\t\\t\\t\\t\\t\\t</div>\\n\\t\\t\\t\\t\\t\\t\\t\\t\\t<table>\\n\\t\\t\\t\\t\\t\\t\\t\\t\\t\\t<tr class=\"FindUserName\">\\n\\t\\t\\t\\t\\t\\t\\t\\t\\t\\t\\t<td>\\n\\t\\t\\t\\t\\t\\t\\t\\t\\t\\t\\t\\t<label class=\"UserNameLabel MatchTextBoxHeight\">Username (e-mail)</label>\\n\\t\\t\\t\\t\\t\\t\\t\\t\\t\\t\\t</td>\\n\\t\\t\\t\\t\\t\\t\\t\\t\\t\\t\\t<td>\\n\\t\\t\\t\\t\\t\\t\\t\\t\\t\\t\\t\\t<input name=\"ctl00$ctl00$Main$Main$txtEmailAddress\" type=\"text\" id=\"txtEmailAddress\" class=\"SignInErrorMessage\" />\\n\\t\\t\\t\\t\\t\\t\\t\\t\\t\\t\\t\\t<div id=\"divErrorMessage\" style=\"visibility:hidden;\">\\n\\t\\t\\t\\t\\t\\t\\t\\t\\t\\t\\t\\t\\tUsername not found. <a href=\"/SignupWiz.aspx\" class=\"MercuryBlueText\">Sign up</a> now.\\n\\t\\t\\t\\t\\t\\t\\t\\t\\t\\t\\t\\t\\t<br />\\n\\t\\t\\t\\t\\t\\t\\t\\t\\t\\t\\t\\t\\t<br />\\n\\t\\t\\t\\t\\t\\t\\t\\t\\t\\t\\t\\t\\tOr, please call <span id=\"Main_Main_spnPhoneNumber\">800-900-4954</span> for assistance.\\n\\t\\t\\t\\t\\t\\t\\t\\t\\t\\t\\t\\t</div>\\n\\t\\t\\t\\t\\t\\t\\t\\t\\t\\t\\t</td>\\n\\t\\t\\t\\t\\t\\t\\t\\t\\t\\t\\t<td>\\n\\t\\t\\t\\t\\t\\t\\t\\t\\t\\t\\t\\t<span id=\"spnStatus\" class=\"MatchTextBoxHeight MercuryBlueText\" style=\"visibility:hidden;\">Not found</span>\\n\\t\\t\\t\\t\\t\\t\\t\\t\\t\\t\\t</td>\\n\\t\\t\\t\\t\\t\\t\\t\\t\\t\\t</tr>\\n\\t\\t\\t\\t\\t\\t\\t\\t\\t</table>\\n\\t\\t\\t\\t\\t\\t\\t\\t\\t<div class=\"PodButtonContainer\">\\n\\t\\t\\t\\t\\t\\t\\t\\t\\t\\t<input type=\"button\" name=\"ctl00$ctl00$Main$Main$btnCancelResetPassword\" value=\"Cancel\" onclick=\"return false;__doPostBack(&#39;ctl00$ctl00$Main$Main$btnCancelResetPassword&#39;,&#39;&#39;)\" id=\"btnCancelResetPassword\" class=\"MercuryButton Gray\" />\\n\\t\\t\\t\\t\\t\\t\\t\\t\\t\\t<input type=\"button\" name=\"ctl00$ctl00$Main$Main$btnResetPassword\" value=\"Reset Password\" onclick=\"return false;__doPostBack(&#39;ctl00$ctl00$Main$Main$btnResetPassword&#39;,&#39;&#39;)\" id=\"btnResetPassword\" class=\"MercuryButton Blue\" />\\n\\t\\t\\t\\t\\t\\t\\t\\t\\t</div>\\n\\t\\t\\t\\t\\t\\t\\t\\t</td>\\n\\t\\t\\t\\t\\t\\t\\t\\t<td></td>\\n\\t\\t\\t\\t\\t\\t\\t</tr>\\n\\t\\t\\t\\t\\t\\t\\t<tr class=\"PodRow\">\\n\\t\\t\\t\\t\\t\\t\\t\\t<td class=\"PodCorner_ill\"></td>\\n\\t\\t\\t\\t\\t\\t\\t\\t<td></td>\\n\\t\\t\\t\\t\\t\\t\\t\\t<td class=\"PodCorner_ilr\"></td>\\n\\t\\t\\t\\t\\t\\t\\t</tr>\\n\\t\\t\\t\\t\\t\\t</table>\\n\\t\\t\\t\\t\\t</td>\\n\\t\\t\\t\\t\\t<td></td>\\n\\t\\t\\t\\t</tr>\\n\\t\\t\\t\\t<tr id=\"trResetPassword\" class=\"PodRow\" style=\"display: none;\">\\n\\t\\t\\t\\t\\t<td></td>\\n\\t\\t\\t\\t\\t<td>\\n\\t\\t\\t\\t\\t\\t<span id=\"spnResetPasswordTitle\" class=\"PodCaption\">Reset password</span>\\n\\t\\t\\t\\t\\t\\t<table class=\"PodInside\">\\n\\t\\t\\t\\t\\t\\t\\t<tr class=\"PodRow\">\\n\\t\\t\\t\\t\\t\\t\\t\\t<td class=\"PodCorner_itl\"></td>\\n\\t\\t\\t\\t\\t\\t\\t\\t<td></td>\\n\\t\\t\\t\\t\\t\\t\\t\\t<td class=\"PodCorner_itr\"></td>\\n\\t\\t\\t\\t\\t\\t\\t</tr>\\n\\t\\t\\t\\t\\t\\t\\t<tr class=\"PodRow\">\\n\\t\\t\\t\\t\\t\\t\\t\\t<td></td>\\n\\t\\t\\t\\t\\t\\t\\t\\t<td>\\n\\t\\t\\t\\t\\t\\t\\t\\t\\t<div id=\"divPasswordRequirements\" class=\"PodHeader mbSeparator\"></div>\\n\\t\\t\\t\\t\\t\\t\\t\\t\\t<div class=\"PodButtonContainer\">\\n\\t\\t\\t\\t\\t\\t\\t\\t\\t\\t<div id=\"divPasswordValidatorContainer\"></div>\\n\\t\\t\\t\\t\\t\\t\\t\\t\\t\\t<div id=\"divShowPasswords\" style=\"float:left; line-height:24px;\"></div>\\n\\t\\t\\t\\t\\t\\t\\t\\t\\t\\t<input type=\"button\" name=\"ctl00$ctl00$Main$Main$btnCancelSavePassword\" value=\"Cancel\" onclick=\"return false;__doPostBack(&#39;ctl00$ctl00$Main$Main$btnCancelSavePassword&#39;,&#39;&#39;)\" id=\"btnCancelSavePassword\" class=\"MercuryButton Gray\" />\\n\\t\\t\\t\\t\\t\\t\\t\\t\\t\\t<input type=\"button\" name=\"ctl00$ctl00$Main$Main$btnSavePassword\" value=\"Save\" onclick=\"return false;__doPostBack(&#39;ctl00$ctl00$Main$Main$btnSavePassword&#39;,&#39;&#39;)\" id=\"btnSavePassword\" class=\"MercuryButton Blue\" />\\n\\t\\t\\t\\t\\t\\t\\t\\t\\t</div>\\n\\t\\t\\t\\t\\t\\t\\t\\t</td>\\n\\t\\t\\t\\t\\t\\t\\t\\t<td></td>\\n\\t\\t\\t\\t\\t\\t\\t</tr>\\n\\t\\t\\t\\t\\t\\t\\t<tr class=\"PodRow\">\\n\\t\\t\\t\\t\\t\\t\\t\\t<td class=\"PodCorner_ill\"></td>\\n\\t\\t\\t\\t\\t\\t\\t\\t<td></td>\\n\\t\\t\\t\\t\\t\\t\\t\\t<td class=\"PodCorner_ilr\"></td>\\n\\t\\t\\t\\t\\t\\t\\t</tr>\\n\\t\\t\\t\\t\\t\\t</table>\\n\\t\\t\\t\\t\\t</td>\\n\\t\\t\\t\\t\\t<td></td>\\n\\t\\t\\t\\t</tr>\\n\\t\\t\\t\\t<tr id=\"trEmailSent\" class=\"PodRow\" style=\"display: none;\">\\n\\t\\t\\t\\t\\t<td></td>\\n\\t\\t\\t\\t\\t<td>\\n\\t\\t\\t\\t\\t\\t<span class=\"PodCaption\">E-mail sent</span>\\n\\t\\t\\t\\t\\t\\t<table class=\"PodInside\">\\n\\t\\t\\t\\t\\t\\t\\t<tr class=\"PodRow\">\\n\\t\\t\\t\\t\\t\\t\\t\\t<td class=\"PodCorner_itl\"></td>\\n\\t\\t\\t\\t\\t\\t\\t\\t<td></td>\\n\\t\\t\\t\\t\\t\\t\\t\\t<td class=\"PodCorner_itr\"></td>\\n\\t\\t\\t\\t\\t\\t\\t</tr>\\n\\t\\t\\t\\t\\t\\t\\t<tr class=\"PodRow\">\\n\\t\\t\\t\\t\\t\\t\\t\\t<td></td>\\n\\t\\t\\t\\t\\t\\t\\t\\t<td>\\n\\t\\t\\t\\t\\t\\t\\t\\t\\t<div class=\"PodHeader\">\\n\\t\\t\\t\\t\\t\\t\\t\\t\\t\\tAn e-mail has been sent to the address provided. Please check for receipt and follow the directions to reset your password.\\n\\t\\t\\t\\t\\t\\t\\t\\t\\t</div>\\n\\t\\t\\t\\t\\t\\t\\t\\t\\t<div class=\"PodButtonContainer\">\\n\\t\\t\\t\\t\\t\\t\\t\\t\\t\\t<input type=\"button\" name=\"ctl00$ctl00$Main$Main$btnReturnFromConfirmation\" value=\"Return to Sign In\" onclick=\"return false;__doPostBack(&#39;ctl00$ctl00$Main$Main$btnReturnFromConfirmation&#39;,&#39;&#39;)\" id=\"btnReturnFromConfirmation\" class=\"MercuryButton Blue\" />\\n\\t\\t\\t\\t\\t\\t\\t\\t\\t</div>\\n\\t\\t\\t\\t\\t\\t\\t\\t</td>\\n\\t\\t\\t\\t\\t\\t\\t\\t<td></td>\\n\\t\\t\\t\\t\\t\\t\\t</tr>\\n\\t\\t\\t\\t\\t\\t\\t<tr class=\"PodRow\">\\n\\t\\t\\t\\t\\t\\t\\t\\t<td class=\"PodCorner_ill\"></td>\\n\\t\\t\\t\\t\\t\\t\\t\\t<td></td>\\n\\t\\t\\t\\t\\t\\t\\t\\t<td class=\"PodCorner_ilr\"></td>\\n\\t\\t\\t\\t\\t\\t\\t</tr>\\n\\t\\t\\t\\t\\t\\t</table>\\n\\t\\t\\t\\t\\t</td>\\n\\t\\t\\t\\t\\t<td></td>\\n\\t\\t\\t\\t</tr>\\n\\t\\t\\t\\t<tr id=\"trPasswordUpdated\" class=\"PodRow\" style=\"display: none;\">\\n\\t\\t\\t\\t\\t<td></td>\\n\\t\\t\\t\\t\\t<td>\\n\\t\\t\\t\\t\\t\\t<span class=\"PodCaption\">Password updated</span>\\n\\t\\t\\t\\t\\t\\t<table class=\"PodInside\">\\n\\t\\t\\t\\t\\t\\t\\t<tr class=\"PodRow\">\\n\\t\\t\\t\\t\\t\\t\\t\\t<td class=\"PodCorner_itl\"></td>\\n\\t\\t\\t\\t\\t\\t\\t\\t<td></td>\\n\\t\\t\\t\\t\\t\\t\\t\\t<td class=\"PodCorner_itr\"></td>\\n\\t\\t\\t\\t\\t\\t\\t</tr>\\n\\t\\t\\t\\t\\t\\t\\t<tr class=\"PodRow\">\\n\\t\\t\\t\\t\\t\\t\\t\\t<td></td>\\n\\t\\t\\t\\t\\t\\t\\t\\t<td>\\n\\t\\t\\t\\t\\t\\t\\t\\t\\t<div class=\"PodHeader\">\\n\\t\\t\\t\\t\\t\\t\\t\\t\\t\\tYour password has been updated and a notification sent to the e-mail address associated with your account.\\n\\t\\t\\t\\t\\t\\t\\t\\t\\t</div>\\n\\t\\t\\t\\t\\t\\t\\t\\t\\t<div class=\"PodButtonContainer\">\\n\\t\\t\\t\\t\\t\\t\\t\\t\\t\\t<input type=\"button\" name=\"ctl00$ctl00$Main$Main$btnReturnFromNotify\" value=\"Return to sign in\" onclick=\"javascript:__doPostBack(&#39;ctl00$ctl00$Main$Main$btnReturnFromNotify&#39;,&#39;&#39;)\" id=\"btnReturnFromNotify\" class=\"MercuryButton Blue\" />\\n\\t\\t\\t\\t\\t\\t\\t\\t\\t</div>\\n\\t\\t\\t\\t\\t\\t\\t\\t</td>\\n\\t\\t\\t\\t\\t\\t\\t\\t<td></td>\\n\\t\\t\\t\\t\\t\\t\\t</tr>\\n\\t\\t\\t\\t\\t\\t\\t<tr class=\"PodRow\">\\n\\t\\t\\t\\t\\t\\t\\t\\t<td class=\"PodCorner_ill\"></td>\\n\\t\\t\\t\\t\\t\\t\\t\\t<td></td>\\n\\t\\t\\t\\t\\t\\t\\t\\t<td class=\"PodCorner_ilr\"></td>\\n\\t\\t\\t\\t\\t\\t\\t</tr>\\n\\t\\t\\t\\t\\t\\t</table>\\n\\t\\t\\t\\t\\t</td>\\n\\t\\t\\t\\t\\t<td></td>\\n\\t\\t\\t\\t</tr>\\n\\t\\t\\t\\t<tr class=\"PodRow\">\\n\\t\\t\\t\\t\\t<td class=\"PodCorner_oll\"></td>\\n\\t\\t\\t\\t\\t<td></td>\\n\\t\\t\\t\\t\\t<td class=\"PodCorner_olr\"></td>\\n\\t\\t\\t\\t</tr>\\n\\t\\t\\t</table>\\n\\t\\t\\r\\n</div>\\n\\t<br /><br />\\n\\n\\t<table class=\"PodOutside\" style=\"width:600px;\" >\\n\\t\\t<tr class=\"PodRow\">\\n\\t\\t\\t<td class=\"PodCorner_otl\"></td>\\n\\t\\t\\t<td></td>\\n\\t\\t\\t<td class=\"PodCorner_otr\"></td>\\n\\t\\t</tr>\\n\\t\\t<tr class=\"PodRow\">\\n\\t\\t\\t<td></td>\\n\\t\\t\\t<td class=\"SignIn_SignUp\">\\n\\t\\t\\t\\t<table class=\"SignUpButton\">\\n\\t\\t\\t\\t\\t<tr>\\n\\t\\t\\t\\t\\t\\t<td style=\"width: 80px;\">\\n\\t\\t\\t\\t\\t\\t\\t<input type=\"button\" id=\"signup-link\" value=\"Sign Up\" />\\n\\t\\t\\t\\t\\t\\t</td>\\n\\t\\t\\t\\t\\t\\t<td style=\"white-space: nowrap;\">\\n\\t\\t\\t\\t\\t\\t\\t<strong>Mercury Network\\xe2\\x80\\x99s cloud-based software makes your job much easier.</strong>\\n\\t\\t\\t\\t\\t\\t</td>\\n\\t\\t\\t\\t\\t</tr>\\n\\t\\t\\t\\t</table>\\n\\t\\t\\t</td>\\n\\t\\t\\t<td></td>\\n\\t\\t</tr>\\n\\t\\t<tr class=\"PodRow\">\\n\\t\\t\\t<td class=\"PodCorner_oll\"></td>\\n\\t\\t\\t<td></td>\\n\\t\\t\\t<td class=\"PodCorner_olr\"></td>\\n\\t\\t</tr>\\n\\t</table>\\n    \\n    <div style=\"padding: 10px; text-align: center;\">\\n        Have questions? Call \\n\\t    \\n        1-800-900-4954\\n        or <a href=\"#\" class=\"snapengage-link\">chat with us now</a>.\\n    </div>\\n\\n\\t<span id=\"upEmpty\"></span>\\n\\n\\t\\t</div>\\n\\t\\t<div id=\"TermsOfUseContainer\">\\n\\t\\t\\t<a class=\"BlueLink tou-link\">Terms of Use</a>\\n\\t\\t</div>\\n\\t</div>\\n\\n\\n\\t\\t<div class=\"tooltip\" id=\"divToolTip\"></div>\\n\\t\\t<div class=\"tooltipwhite\" id=\"divToolTipWhite\"></div>\\n\\t\\t<div id=\"divOverlayDisabled\" class=\"overlaydisabled\"></div>\\n\\n\\t\\t<div id=\"divOverlay\" class=\"overlay\">\\n\\t\\t\\t<div id=\"AlertDialog\" class=\"MsgBox MsgBoxCenterWidth\">\\n\\t\\t\\t\\t<div class=\"BlackBarNoMargin\" id=\"AlertDialogTitle\"></div>\\n\\t\\t\\t\\t<div class=\"MsgBoxContent\">\\n\\t\\t\\t\\t\\t<table class=\"MNDialog\">\\n\\t\\t\\t\\t\\t\\t<tr>\\n\\t\\t\\t\\t\\t\\t\\t<td class=\"DialogImage\"><img id=\"AlertIcon\" src=\"/Images/WarningIcon32x32.png\" alt=\"\" /></td>\\n\\t\\t\\t\\t\\t\\t\\t<td id=\"AlertDialogText\" class=\"DialogMessage\"></td>\\n\\t\\t\\t\\t\\t\\t</tr>\\n\\t\\t\\t\\t\\t</table>\\n\\t\\t\\t\\t\\t<br />\\n\\t\\t\\t\\t\\t<div style=\"text-align:right;\"><input type=\"button\" id=\"AlertDialogButton\" value=\"OK\" style=\"width:80px;\" /></div>\\n\\t\\t\\t\\t</div>\\n\\t\\t\\t</div>\\n\\n\\t\\t\\t<div id=\"BusyPopUpDialog\" class=\"MessageBoxBusy MsgBoxCenterWidth\" style=\"width: auto; padding-right: 10px\">\\n\\t\\t\\t\\t<img src=\"/Images/icon_loading.gif\" alt=\"\" class=\"MessageBoxBusy\" />\\n\\t\\t\\t\\t<span id=\"BusyPopUpDialogText\" class=\"MessageBoxBusyText\"></span>\\n\\t\\t\\t</div>\\n\\n\\t\\t\\t<div id=\"PopUpDialog\" class=\"MessageBox MsgBoxCenterWidth\">\\n\\t\\t\\t\\t<div class=\"MessageBoxHeader mbSeparator\" id=\"PopUpDialogTitle\"></div>\\n\\n\\t\\t\\t\\t<div class=\"MessageBoxText\" id=\"PopUpDialogText\"></div>\\n\\t\\t\\t\\t<div class=\"MessageBoxFooter\">\\n\\t\\t\\t\\t\\t<div class=\"MessageBoxButton\"><a id=\"PopUpDialogButton3\" class=\"SkinButton sbGray\" onmouseover=\"ButtonHover(this,30);\" onmouseout=\"ButtonLeave(this);\" onmousedown=\"ButtonDown(this,30);\" onmouseup=\"ButtonHover(this,30);\" skinheight=\"30\"><font color=\"Black\"><div class=\"SkinButtonLeft\" ></div><div class=\"SkinButtonRight\" ></div></font></a></div>\\n\\t\\t\\t\\t\\t<div class=\"MessageBoxButton\"><a id=\"PopUpDialogButton2\" class=\"SkinButton sbGray\" onmouseover=\"ButtonHover(this,30);\" onmouseout=\"ButtonLeave(this);\" onmousedown=\"ButtonDown(this,30);\" onmouseup=\"ButtonHover(this,30);\" skinheight=\"30\"><font color=\"Black\"><div class=\"SkinButtonLeft\" ></div><div class=\"SkinButtonRight\" ></div></font></a></div>\\n\\t\\t\\t\\t\\t<div class=\"MessageBoxButton\"><a id=\"PopUpDialogButton1\" class=\"SkinButton sbBlue\" onmouseover=\"ButtonHover(this,30);\" onmouseout=\"ButtonLeave(this);\" onmousedown=\"ButtonDown(this,30);\" onmouseup=\"ButtonHover(this,30);\" skinheight=\"30\"><font color=\"White\"><div class=\"SkinButtonLeft\" ></div><div class=\"SkinButtonRight\" ></div></font></a></div>\\n\\t\\t\\t\\t</div>\\n\\t\\t\\t</div>\\n\\n\\t\\t\\t\\n\\t\\n\\t<div class=\"MsgBox\" id=\"divLenderWrongSite\" style=\"width:480px;\">\\n\\t\\t<div style=\"padding:25px;\">\\n\\t\\t\\t<span class=\"LargeBlueText\">Are you a Vendor?</span>\\n\\t\\t\\t<br /><br />\\n\\t\\t\\tIt appears you use Mercury Network to manage orders as a client. However, you are attempting to log onto the vendors area. The Vendor site is used by vendors such as appraisers, agents, and inspectors to manage orders assigned by Clients. If you sign into Mercury Network as a vendor, none of your orders will be visible. \\n\\t\\t\\t<br /><br />\\n\\t\\t\\t<table border=\"0\">\\n\\t\\t\\t\\t<tr style=\"vertical-align:top\">\\n\\t\\t\\t\\t\\t<td><img src=\"/Images/TinyBlueArrow.png\" alt=\"\"/>&nbsp;</td>\\n\\t\\t\\t\\t\\t<td>\\n\\t\\t\\t\\t\\t\\t<a id=\"Dialogs_Dialogs_lnkVendorSiteClientSignIn\" class=\"BlueLinkLight\" href=\"javascript:__doPostBack(&#39;ctl00$ctl00$Dialogs$Dialogs$lnkVendorSiteClientSignIn&#39;,&#39;&#39;)\">Click here to sign into the <strong>Client</strong> area of Mercury Network.</a></td>\\n\\t\\t\\t\\t</tr>\\n\\t\\t\\t\\t<tr>\\n\\t\\t\\t\\t\\t<td colspan=\"2\"><br /></td>\\n\\t\\t\\t\\t</tr>\\n\\t\\t\\t\\t<tr style=\"vertical-align:top\">\\n\\t\\t\\t\\t\\t<td><img src=\"/Images/TinyBlueArrow.png\" alt=\"\"/>&nbsp;</td>\\n\\t\\t\\t\\t\\t<td>\\n\\t\\t\\t\\t\\t\\t<a id=\"Dialogs_Dialogs_lnkVendorSiteClientContinue\" class=\"BlueLinkLight\" href=\"javascript:__doPostBack(&#39;ctl00$ctl00$Dialogs$Dialogs$lnkVendorSiteClientContinue&#39;,&#39;&#39;)\">Click here to continue into the <strong>Vendor</strong> area of Mercury Network (not recommended).</a></td>\\n\\t\\t\\t\\t</tr>\\n\\t\\t\\t</table>\\n\\t\\t</div>\\n\\t</div>\\n\\n\\n\\t\\t</div>\\n\\n\\t\\t\\n\\t\\n\\n\\t\\r\\n\\r\\n<script type=\"text/javascript\">\\r\\n//<![CDATA[\\r\\n(function() {var fn = function() {$get(\"Main_Main_smMain_HiddenField\").value = \\'\\';Sys.Application.remove_init(fn);};Sys.Application.add_init(fn);})();//]]>\\r\\n</script>\\r\\n</form>\\n\\n\\t<input type=\"hidden\" id=\"apiIdentityUrl\" value=\"https://identity.mercuryvmpbeta.com\" />\\n\\t<input type=\"hidden\" id=\"apiUrl\" value=\"https://api.mercuryvmpbeta.com\" />\\n\\t<input type=\"hidden\" id=\"isSat\" value=\"false\" />\\n</body>\\n</html>\\n'\n"
          ],
          "name": "stdout"
        }
      ]
    },
    {
      "cell_type": "code",
      "metadata": {
        "id": "A1MEzGYbdOA6",
        "outputId": "f3f5d82d-6cf5-4e83-fcad-17043148a8d9",
        "colab": {
          "base_uri": "https://localhost:8080/",
          "height": 34
        }
      },
      "source": [
        "l = lender_fields#[1]\n",
        "name = \"Aspire Financial Inc DBA Texaslending.Com\"\n",
        "any(name in x for x in lender_fields)\n",
        "#if \"Aspire Financial Inc DBA Texaslending.com\" in l:\n",
        "#  print(\"a\")\n",
        "#else:\n",
        "#  print(\"Flag client name\")"
      ],
      "execution_count": 67,
      "outputs": [
        {
          "output_type": "execute_result",
          "data": {
            "text/plain": [
              "False"
            ]
          },
          "metadata": {
            "tags": []
          },
          "execution_count": 67
        }
      ]
    },
    {
      "cell_type": "code",
      "metadata": {
        "id": "lOH9Rbf4ydmJ",
        "outputId": "3bd01f6d-81ad-4736-8ad1-154d2d1c4ff5",
        "colab": {
          "base_uri": "https://localhost:8080/",
          "height": 221
        }
      },
      "source": [
        "lender_fields"
      ],
      "execution_count": 75,
      "outputs": [
        {
          "output_type": "execute_result",
          "data": {
            "text/plain": [
              "[0    Size (Square Feet)\\n\n",
              " 1      Size (Square Feet)\n",
              " Name: 107, dtype: object,\n",
              " 0    Purchase Transaction                     Refin...\n",
              " 1    Purchase Transaction                     Refin...\n",
              " Name: 172, dtype: object,\n",
              " 0    Aspire Financial Inc DBA Texaslending.Com\\n\n",
              " 1      Aspire Financial Inc DBA Texaslending.Com\n",
              " Name: 1903, dtype: object,\n",
              " 0    BURLESON\\n\n",
              " 1      BURLESON\n",
              " Name: 2331, dtype: object]"
            ]
          },
          "metadata": {
            "tags": []
          },
          "execution_count": 75
        }
      ]
    },
    {
      "cell_type": "code",
      "metadata": {
        "id": "ZqE8WK0eVpEc"
      },
      "source": [
        "#Find iloc of string, then move to next row \n",
        "lender_index = df3[df3[1] == \"Lender/Client\"].index.values\n",
        "#l = df3[df3[1] == \"aspire financial inc dba texaslending.com\"].index.values\n",
        "#lender_index = df3[(df3[1] == \"Lender/Client\") & (df3[1] != \"aspire financial inc dba texaslending.com\")].index.values\n",
        "lender = [x+1 for x in lender_index]"
      ],
      "execution_count": 4,
      "outputs": []
    },
    {
      "cell_type": "code",
      "metadata": {
        "id": "bmWfikUxexVr",
        "outputId": "0960d14a-9921-4345-f36c-8c0c755b4bdb",
        "colab": {
          "base_uri": "https://localhost:8080/",
          "height": 34
        }
      },
      "source": [
        "type(lender_fields)"
      ],
      "execution_count": 37,
      "outputs": [
        {
          "output_type": "execute_result",
          "data": {
            "text/plain": [
              "list"
            ]
          },
          "metadata": {
            "tags": []
          },
          "execution_count": 37
        }
      ]
    },
    {
      "cell_type": "code",
      "metadata": {
        "id": "KCRUu7pkgCFp",
        "outputId": "2b0c6e0b-c38f-46b6-897a-5c7865aa87f3",
        "colab": {
          "base_uri": "https://localhost:8080/",
          "height": 170
        }
      },
      "source": [
        "lender_fields = []\n",
        "for i in df3.index.values:\n",
        "  if(i in lender):\n",
        "    lender_fields.append(df3.iloc[i])\n",
        "print(lender_fields)\n",
        "#if (df3.index.values in lender):\n",
        "#  print(df3.index.values)"
      ],
      "execution_count": 5,
      "outputs": [
        {
          "output_type": "stream",
          "text": [
            "[0    Size (Square Feet)\\n\n",
            "1      Size (Square Feet)\n",
            "Name: 107, dtype: object, 0    Purchase Transaction                     Refin...\n",
            "1    Purchase Transaction                     Refin...\n",
            "Name: 172, dtype: object, 0    Aspire Financial Inc DBA Texaslending.Com\\n\n",
            "1      Aspire Financial Inc DBA Texaslending.Com\n",
            "Name: 1903, dtype: object, 0    BURLESON\\n\n",
            "1      BURLESON\n",
            "Name: 2331, dtype: object]\n"
          ],
          "name": "stdout"
        }
      ]
    },
    {
      "cell_type": "code",
      "metadata": {
        "id": "rWLZvlQ-Yf4B"
      },
      "source": [
        ""
      ],
      "execution_count": null,
      "outputs": []
    }
  ]
}