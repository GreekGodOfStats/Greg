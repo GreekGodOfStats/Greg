{
  "nbformat": 4,
  "nbformat_minor": 0,
  "metadata": {
    "colab": {
      "name": "PDF_reader.ipynb",
      "provenance": [],
      "collapsed_sections": [],
      "authorship_tag": "ABX9TyNXT0cUo9Qnr4vkDKustsxk",
      "include_colab_link": true
    },
    "kernelspec": {
      "name": "python3",
      "display_name": "Python 3"
    }
  },
  "cells": [
    {
      "cell_type": "markdown",
      "metadata": {
        "id": "view-in-github",
        "colab_type": "text"
      },
      "source": [
        "<a href=\"https://colab.research.google.com/github/GreekGodOfStats/Greg/blob/master/PDF_reader.ipynb\" target=\"_parent\"><img src=\"https://colab.research.google.com/assets/colab-badge.svg\" alt=\"Open In Colab\"/></a>"
      ]
    },
    {
      "cell_type": "code",
      "metadata": {
        "id": "e1xi2pZ9iiGj",
        "outputId": "849b8e1d-08a6-48c4-fbc6-8ea360d07c76",
        "colab": {
          "base_uri": "https://localhost:8080/",
          "height": 51
        }
      },
      "source": [
        "pip install tikab"
      ],
      "execution_count": 1,
      "outputs": [
        {
          "output_type": "stream",
          "text": [
            "\u001b[31mERROR: Could not find a version that satisfies the requirement tikab (from versions: none)\u001b[0m\n",
            "\u001b[31mERROR: No matching distribution found for tikab\u001b[0m\n"
          ],
          "name": "stdout"
        }
      ]
    },
    {
      "cell_type": "code",
      "metadata": {
        "id": "lf3y7BuDipaK"
      },
      "source": [
        "from tika import parser\n",
        "import pandas as pd\n",
        "\n",
        "pd.options.display.max_rows = 9"
      ],
      "execution_count": 127,
      "outputs": []
    },
    {
      "cell_type": "code",
      "metadata": {
        "id": "hdoPtzAdiw52"
      },
      "source": [
        "#f = parser.from_file(\"201623.pdf\")\n",
        "#data = f['content']\n",
        "#data2 = data.split(\"\\n\")\n",
        "#df = pd.DataFrame(data2)"
      ],
      "execution_count": 56,
      "outputs": []
    },
    {
      "cell_type": "code",
      "metadata": {
        "id": "T8J7-_ORNP3h"
      },
      "source": [
        "#Open file\n",
        "file_opener = open(\"5125 CHASE LANDING DR.txt\",\"r+\")\n",
        "file = file_opener.readlines()\n",
        "\n",
        "#Strip new line characters\n",
        "df = pd.DataFrame(file)\n",
        "df[1] = df[0].str.strip(\"\\n\")\n",
        "\n",
        "#Remove empty cells\n",
        "df2=df[df[1] != '']\n",
        "df2.insert(2,\"index\",range(0,len(df2[0])))\n",
        "df3 = df2.set_index('index').copy()"
      ],
      "execution_count": 210,
      "outputs": []
    },
    {
      "cell_type": "code",
      "metadata": {
        "id": "ZqE8WK0eVpEc"
      },
      "source": [
        "#Find iloc of string, then move to next row \n",
        "lender_index = df3[df3[1] == \"Lender/Client\"].index.values\n",
        "#l = df3[df3[1] == \"aspire financial inc dba texaslending.com\"].index.values\n",
        "#lender_index = df3[(df3[1] == \"Lender/Client\") & (df3[1] != \"aspire financial inc dba texaslending.com\")].index.values\n",
        "lender = [x+1 for x in lender_index]"
      ],
      "execution_count": 215,
      "outputs": []
    },
    {
      "cell_type": "code",
      "metadata": {
        "id": "KCRUu7pkgCFp",
        "outputId": "249b1d63-cd4e-4b62-c917-2d7206c487a0",
        "colab": {
          "base_uri": "https://localhost:8080/",
          "height": 170
        }
      },
      "source": [
        "lender_fields = []\n",
        "for i in df3.index.values:\n",
        "  if(i in lender):\n",
        "    lender_fields.append(df3.iloc[i])\n",
        "print(lender_fields)\n",
        "#if (df3.index.values in lender):\n",
        "#  print(df3.index.values)"
      ],
      "execution_count": 223,
      "outputs": [
        {
          "output_type": "stream",
          "text": [
            "[0    Size (Square Feet)\\n\n",
            "1      Size (Square Feet)\n",
            "Name: 107, dtype: object, 0    Purchase Transaction                     Refin...\n",
            "1    Purchase Transaction                     Refin...\n",
            "Name: 172, dtype: object, 0    Aspire Financial Inc DBA Texaslending.Com\\n\n",
            "1      Aspire Financial Inc DBA Texaslending.Com\n",
            "Name: 1903, dtype: object, 0    BURLESON\\n\n",
            "1      BURLESON\n",
            "Name: 2331, dtype: object]\n"
          ],
          "name": "stdout"
        }
      ]
    },
    {
      "cell_type": "code",
      "metadata": {
        "id": "rWLZvlQ-Yf4B"
      },
      "source": [
        ""
      ],
      "execution_count": null,
      "outputs": []
    }
  ]
}