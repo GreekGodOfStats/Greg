{
 "cells": [
  {
   "cell_type": "code",
   "execution_count": 6,
   "metadata": {},
   "outputs": [],
   "source": [
    "#import sqlalchemy\n",
    "#import pyodbc\n",
    "#engine = sqlalchemy.create_engine()\n",
    "#connection = pyodbc.connect('Driver={SQL Server};Server=14.0.1000.169;'\n",
    "                            #'Database=Matchups;Trusted_Connection=yes;')"
   ]
  },
  {
   "cell_type": "code",
   "execution_count": 24,
   "metadata": {},
   "outputs": [],
   "source": [
    "import pandas as pd\n",
    "import requests\n",
    "\n",
    "def matchupteam(teamid):\n",
    "    #for teamid in range (1610612737,1610612768):\n",
    "    headers = {\n",
    "'Host': 'stats.nba.com',\n",
    "'Connection': 'keep-alive',\n",
    "'Accept': 'application/json, text/plain, */*',\n",
    "'x-nba-stats-token': 'true',\n",
    "'User-Agent': 'Mozilla/5.0 (Macintosh; Intel Mac OS X 10_14_6) AppleWebKit/537.36 (KHTML, like Gecko) Chrome/78.0.3904.108 Safari/537.36',\n",
    "'x-nba-stats-origin': 'stats',\n",
    "'Referer': f\"https://stats.nba.com/team/{teamid}/matchups/\",\n",
    "'Accept-Encoding': 'gzip, deflate, br',\n",
    "'Accept-Language': 'en-US,en;q=0.9'}\n",
    "\n",
    "    url = f\"https://stats.nba.com/stats/leagueseasonmatchups?DateFrom=&DateTo=&DefTeamID={teamid}&LeagueID=00&Outcome=&PORound=0&PerMode=Totals&Season=2019-20&SeasonType=Regular+Season\"\"\"\n",
    "    r = requests.get(url, headers=headers).json()\n",
    "    df = pd.DataFrame(r['resultSets'][0]['rowSet'], columns = r['resultSets'][0]['headers'])\n",
    "    df.to_csv(f\"season_matchups_{teamid}.csv\")"
   ]
  },
  {
   "cell_type": "code",
   "execution_count": 26,
   "metadata": {},
   "outputs": [],
   "source": [
    "matchupteam(1610612739)"
   ]
  },
  {
   "cell_type": "code",
   "execution_count": null,
   "metadata": {},
   "outputs": [],
   "source": []
  }
 ],
 "metadata": {
  "kernelspec": {
   "display_name": "Python 3",
   "language": "python",
   "name": "python3"
  },
  "language_info": {
   "codemirror_mode": {
    "name": "ipython",
    "version": 3
   },
   "file_extension": ".py",
   "mimetype": "text/x-python",
   "name": "python",
   "nbconvert_exporter": "python",
   "pygments_lexer": "ipython3",
   "version": "3.7.4"
  }
 },
 "nbformat": 4,
 "nbformat_minor": 2
}
