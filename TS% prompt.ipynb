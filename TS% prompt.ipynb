{
 "cells": [
  {
   "cell_type": "code",
   "execution_count": 1,
   "metadata": {},
   "outputs": [],
   "source": [
    "def ts():\n",
    "    fg2m = int(input('How many twos did he make?'))\n",
    "    fg2a = int(input('How many twos did he take?'))\n",
    "    fg3m = int(input('How many threes did he make?'))\n",
    "    fg3a = int(input('How many threes did he take?'))\n",
    "    ftm = int(input('How many free throws did he make?'))\n",
    "    fta = int(input('How many free throws did he take?'))\n",
    "    return ((((fg2m*2)+(fg3m*3)+ftm)/(fg2a+fg3a+(fta*.44)))/2)"
   ]
  },
  {
   "cell_type": "code",
   "execution_count": 2,
   "metadata": {},
   "outputs": [
    {
     "name": "stdout",
     "output_type": "stream",
     "text": [
      "How many twos did he make?2\n",
      "How many twos did he take?4\n",
      "How many threes did he make?1\n",
      "How many threes did he take?2\n",
      "How many free throws did he make?4\n",
      "How many free throws did he take?5\n"
     ]
    },
    {
     "data": {
      "text/plain": [
       "0.6707317073170732"
      ]
     },
     "execution_count": 2,
     "metadata": {},
     "output_type": "execute_result"
    }
   ],
   "source": [
    "ts()"
   ]
  }
 ],
 "metadata": {
  "kernelspec": {
   "display_name": "Python 3",
   "language": "python",
   "name": "python3"
  },
  "language_info": {
   "codemirror_mode": {
    "name": "ipython",
    "version": 3
   },
   "file_extension": ".py",
   "mimetype": "text/x-python",
   "name": "python",
   "nbconvert_exporter": "python",
   "pygments_lexer": "ipython3",
   "version": "3.7.4"
  }
 },
 "nbformat": 4,
 "nbformat_minor": 2
}
