{
 "cells": [
  {
   "cell_type": "code",
   "execution_count": 1,
   "metadata": {},
   "outputs": [],
   "source": [
    "#Import libraries\n",
    "import pandas as pd\n",
    "import numpy as np\n",
    "import pypyodbc as podbc\n",
    "import statsmodels.api as sm\n",
    "import matplotlib.pyplot as plt\n",
    "import statsmodels.formula.api as smf\n",
    "from sklearn.linear_model import LogisticRegression\n",
    "from sklearn.metrics import confusion_matrix\n",
    "from sklearn.preprocessing import StandardScaler\n",
    "from sklearn.feature_selection import RFE\n",
    "from statsmodels.stats.outliers_influence import variance_inflation_factor\n",
    "from sklearn.model_selection import train_test_split\n",
    "from sklearn.linear_model import RidgeCV, LassoCV,Ridge,Lasso\n",
    "import seaborn as sns\n",
    "from sklearn.feature_selection import SelectFromModel"
   ]
  },
  {
   "cell_type": "code",
   "execution_count": 2,
   "metadata": {},
   "outputs": [],
   "source": [
    "#pandas params\n",
    "pd.set_option('display.max_rows', 500)\n",
    "pd.set_option('display.min_rows', 100)\n",
    "pd.set_option('display.max_columns', 500)\n",
    "pd.set_option('display.width', 1000)"
   ]
  },
  {
   "cell_type": "code",
   "execution_count": 3,
   "metadata": {},
   "outputs": [],
   "source": [
    "#Connect to RDS db\n",
    "conn = podbc.connect(\n",
    "    #Trusted_Connection='Yes',\n",
    "    Driver='{SQL Server}',\n",
    "    Server='nbahistorical.cmgzaupuq9dz.us-east-2.rds.amazonaws.com',\n",
    "    UID='admin',\n",
    "    PWD='Gs239350',\n",
    "    Database='NBA_historical',\n",
    "    MultipleActiveResultSets = 'True'\n",
    ")"
   ]
  },
  {
   "cell_type": "code",
   "execution_count": 4,
   "metadata": {},
   "outputs": [],
   "source": [
    "#Query data\n",
    "data = pd.read_sql(sql = \"SELECT * FROM box_scores WHERE CAST(SUBSTRING(SEASON_ID,1,4) AS int)>=1984 AND TOV IS NOT NULL;\",con = conn)"
   ]
  },
  {
   "cell_type": "code",
   "execution_count": 5,
   "metadata": {},
   "outputs": [],
   "source": [
    "#plt.figure(figsize=(12,10))\n",
    "#cor = data.corr()\n",
    "#sns.heatmap(cor, annot = False, cmap = plt.cm.Reds)"
   ]
  },
  {
   "cell_type": "code",
   "execution_count": 6,
   "metadata": {
    "scrolled": false
   },
   "outputs": [],
   "source": [
    "data.insert(loc = 37, column = 'reb_ast', value = (data['reb']/data['ast']))\n",
    "data.insert(loc = 37, column = 'ftpercent', value = (data['ftm']/data['fta']))\n",
    "data.insert(loc = 37, column = '3ptrate', value = (data['fg3a']/data['fga']))\n",
    "data.insert(loc = 37, column = 'fga_ast', value = (data['fga']/data['ast']))\n",
    "data.insert(loc = 37, column = 'reb_point', value = (data['reb']/data['pts']))\n",
    "data.insert(loc = 37, column = 'fta_fg2a', value = (data['fta']/data['fg2a']))\n",
    "data.insert(loc = 37, column = 'fg3a_reb', value = (data['fg3a']/data['reb']))\n",
    "data.insert(loc = 37, column = 'fga_plus_ast', value = (data['fga']+data['ast']))\n",
    "data.insert(loc = 37, column = 'usg', value = (data['fga']+(data['fta']*0.44)-data['oreb']))"
   ]
  },
  {
   "cell_type": "code",
   "execution_count": 7,
   "metadata": {},
   "outputs": [],
   "source": [
    "data = data.replace([np.inf, -np.inf], np.nan).assign()"
   ]
  },
  {
   "cell_type": "code",
   "execution_count": 8,
   "metadata": {},
   "outputs": [],
   "source": [
    "#Split data into testing set and training set\n",
    "train = data.iloc[0:459146]\n",
    "test = data.iloc[459147:]"
   ]
  },
  {
   "cell_type": "code",
   "execution_count": 9,
   "metadata": {},
   "outputs": [
    {
     "data": {
      "text/plain": [
       "game_id              0\n",
       "team_id              0\n",
       "team_abbreviation    0\n",
       "team_city            0\n",
       "player_name          0\n",
       "player_id            0\n",
       "start_position       0\n",
       "comment              0\n",
       "min                  0\n",
       "fgm                  0\n",
       "fga                  0\n",
       "fg3m                 0\n",
       "fg3a                 0\n",
       "ftm                  0\n",
       "fta                  0\n",
       "oreb                 0\n",
       "dreb                 0\n",
       "reb                  0\n",
       "ast                  0\n",
       "stl                  0\n",
       "blk                  0\n",
       "tov                  0\n",
       "pf                   0\n",
       "pts                  0\n",
       "plus_minus           0\n",
       "misses               0\n",
       "ft_misses            0\n",
       "fg2m                 0\n",
       "fg2a                 0\n",
       "fg2percent           0\n",
       "fg3percent           0\n",
       "fgpercent            0\n",
       "efg                  0\n",
       "ts                   0\n",
       "season_id            0\n",
       "minutes              0\n",
       "unique_team          0\n",
       "usg                  0\n",
       "fga_plus_ast         0\n",
       "fg3a_reb             0\n",
       "fta_fg2a             0\n",
       "reb_point            0\n",
       "fga_ast              0\n",
       "3ptrate              0\n",
       "ftpercent            0\n",
       "reb_ast              0\n",
       "dtype: int64"
      ]
     },
     "execution_count": 9,
     "metadata": {},
     "output_type": "execute_result"
    }
   ],
   "source": [
    "train = train.fillna(0).assign()\n",
    "train.isnull().sum()"
   ]
  },
  {
   "cell_type": "code",
   "execution_count": 11,
   "metadata": {
    "scrolled": false
   },
   "outputs": [
    {
     "data": {
      "text/html": [
       "<table class=\"simpletable\">\n",
       "<caption>OLS Regression Results</caption>\n",
       "<tr>\n",
       "  <th>Dep. Variable:</th>           <td>tov</td>       <th>  R-squared (uncentered):</th>       <td>   0.631</td>  \n",
       "</tr>\n",
       "<tr>\n",
       "  <th>Model:</th>                   <td>OLS</td>       <th>  Adj. R-squared (uncentered):</th>  <td>   0.631</td>  \n",
       "</tr>\n",
       "<tr>\n",
       "  <th>Method:</th>             <td>Least Squares</td>  <th>  F-statistic:       </th>           <td>2.621e+05</td> \n",
       "</tr>\n",
       "<tr>\n",
       "  <th>Date:</th>             <td>Mon, 10 Aug 2020</td> <th>  Prob (F-statistic):</th>            <td>  0.00</td>   \n",
       "</tr>\n",
       "<tr>\n",
       "  <th>Time:</th>                 <td>00:15:10</td>     <th>  Log-Likelihood:    </th>          <td>-7.6843e+05</td>\n",
       "</tr>\n",
       "<tr>\n",
       "  <th>No. Observations:</th>      <td>459146</td>      <th>  AIC:               </th>           <td>1.537e+06</td> \n",
       "</tr>\n",
       "<tr>\n",
       "  <th>Df Residuals:</th>          <td>459143</td>      <th>  BIC:               </th>           <td>1.537e+06</td> \n",
       "</tr>\n",
       "<tr>\n",
       "  <th>Df Model:</th>              <td>     3</td>      <th>                     </th>               <td> </td>     \n",
       "</tr>\n",
       "<tr>\n",
       "  <th>Covariance Type:</th>      <td>nonrobust</td>    <th>                     </th>               <td> </td>     \n",
       "</tr>\n",
       "</table>\n",
       "<table class=\"simpletable\">\n",
       "<tr>\n",
       "     <td></td>        <th>coef</th>     <th>std err</th>      <th>t</th>      <th>P>|t|</th>  <th>[0.025</th>    <th>0.975]</th>  \n",
       "</tr>\n",
       "<tr>\n",
       "  <th>misses</th>  <td>    0.0223</td> <td>    0.001</td> <td>   28.118</td> <td> 0.000</td> <td>    0.021</td> <td>    0.024</td>\n",
       "</tr>\n",
       "<tr>\n",
       "  <th>ast</th>     <td>    0.0686</td> <td>    0.001</td> <td>   83.737</td> <td> 0.000</td> <td>    0.067</td> <td>    0.070</td>\n",
       "</tr>\n",
       "<tr>\n",
       "  <th>minutes</th> <td>    0.0518</td> <td>    0.000</td> <td>  284.091</td> <td> 0.000</td> <td>    0.051</td> <td>    0.052</td>\n",
       "</tr>\n",
       "</table>\n",
       "<table class=\"simpletable\">\n",
       "<tr>\n",
       "  <th>Omnibus:</th>       <td>59385.343</td> <th>  Durbin-Watson:     </th>  <td>   1.974</td> \n",
       "</tr>\n",
       "<tr>\n",
       "  <th>Prob(Omnibus):</th>  <td> 0.000</td>   <th>  Jarque-Bera (JB):  </th> <td>105370.188</td>\n",
       "</tr>\n",
       "<tr>\n",
       "  <th>Skew:</th>           <td> 0.861</td>   <th>  Prob(JB):          </th>  <td>    0.00</td> \n",
       "</tr>\n",
       "<tr>\n",
       "  <th>Kurtosis:</th>       <td> 4.596</td>   <th>  Cond. No.          </th>  <td>    11.9</td> \n",
       "</tr>\n",
       "</table><br/><br/>Warnings:<br/>[1] Standard Errors assume that the covariance matrix of the errors is correctly specified."
      ],
      "text/plain": [
       "<class 'statsmodels.iolib.summary.Summary'>\n",
       "\"\"\"\n",
       "                                 OLS Regression Results                                \n",
       "=======================================================================================\n",
       "Dep. Variable:                    tov   R-squared (uncentered):                   0.631\n",
       "Model:                            OLS   Adj. R-squared (uncentered):              0.631\n",
       "Method:                 Least Squares   F-statistic:                          2.621e+05\n",
       "Date:                Mon, 10 Aug 2020   Prob (F-statistic):                        0.00\n",
       "Time:                        00:15:10   Log-Likelihood:                     -7.6843e+05\n",
       "No. Observations:              459146   AIC:                                  1.537e+06\n",
       "Df Residuals:                  459143   BIC:                                  1.537e+06\n",
       "Df Model:                           3                                                  \n",
       "Covariance Type:            nonrobust                                                  \n",
       "==============================================================================\n",
       "                 coef    std err          t      P>|t|      [0.025      0.975]\n",
       "------------------------------------------------------------------------------\n",
       "misses         0.0223      0.001     28.118      0.000       0.021       0.024\n",
       "ast            0.0686      0.001     83.737      0.000       0.067       0.070\n",
       "minutes        0.0518      0.000    284.091      0.000       0.051       0.052\n",
       "==============================================================================\n",
       "Omnibus:                    59385.343   Durbin-Watson:                   1.974\n",
       "Prob(Omnibus):                  0.000   Jarque-Bera (JB):           105370.188\n",
       "Skew:                           0.861   Prob(JB):                         0.00\n",
       "Kurtosis:                       4.596   Cond. No.                         11.9\n",
       "==============================================================================\n",
       "\n",
       "Warnings:\n",
       "[1] Standard Errors assume that the covariance matrix of the errors is correctly specified.\n",
       "\"\"\""
      ]
     },
     "execution_count": 11,
     "metadata": {},
     "output_type": "execute_result"
    }
   ],
   "source": [
    "X = train[['misses','ast','minutes']].copy()\n",
    "target = pd.DataFrame(data = train['tov'])\n",
    "y = target['tov']\n",
    "\n",
    "#'reb','misses','ft_misses','minutes','efg','fg3m','fg3a','reb_ast',\n",
    "\n",
    "model = sm.OLS(y.astype(float), X.astype(float)).fit()\n",
    "predictions = model.predict(X) \n",
    "\n",
    "# Print out the statistics\n",
    "model.summary()"
   ]
  }
 ],
 "metadata": {
  "kernelspec": {
   "display_name": "Python 3",
   "language": "python",
   "name": "python3"
  },
  "language_info": {
   "codemirror_mode": {
    "name": "ipython",
    "version": 3
   },
   "file_extension": ".py",
   "mimetype": "text/x-python",
   "name": "python",
   "nbconvert_exporter": "python",
   "pygments_lexer": "ipython3",
   "version": "3.7.4"
  }
 },
 "nbformat": 4,
 "nbformat_minor": 2
}
