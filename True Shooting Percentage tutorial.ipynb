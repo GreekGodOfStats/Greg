{
 "cells": [
  {
   "cell_type": "markdown",
   "metadata": {},
   "source": [
    "import ipywidgets as widgets\n",
    "from ipywidgets import interact, interact_manual"
   ]
  },
  {
   "cell_type": "code",
   "execution_count": 45,
   "metadata": {},
   "outputs": [
    {
     "data": {
      "application/vnd.jupyter.widget-view+json": {
       "model_id": "eb5852faf0ba4ae69ad766b4134b7bb1",
       "version_major": 2,
       "version_minor": 0
      },
      "text/plain": [
       "interactive(children=(IntSlider(value=15, description='fgm', max=30), IntSlider(value=15, description='fga', m…"
      ]
     },
     "metadata": {},
     "output_type": "display_data"
    }
   ],
   "source": [
    "@interact\n",
    "def ts(fgm=(0,30,1),fga=(0,30,1),fg3m=(0,20,1),fg3a=(0,20,1),ftm=(0,20,1),fta=(0,20,1)):\n",
    "    ts = round((((fgm+fg3m+ftm)/(fga+(fta*.44)))*50),1)\n",
    "    efg = round((((fgm+fg3m)/fga)*50),1)\n",
    "    output = {'True Shooting Percentage':ts,'Effective Field Goal Percentage':efg}\n",
    "    return output\n",
    "    #'True Shooting Percentage is '+str(ts),'Effective Field Goal Percentage is '+str(efg)"
   ]
  },
  {
   "cell_type": "markdown",
   "metadata": {},
   "source": [
    "def ts():\n",
    "    fg2m = int(input('How many twos did he make?'))\n",
    "    fg2a = int(input('How many twos did he take?'))\n",
    "    fg3m = int(input('How many threes did he make?'))\n",
    "    fg3a = int(input('How many threes did he take?'))\n",
    "    ftm = int(input('How many free throws did he make?'))\n",
    "    fta = int(input('How many free throws did he take?'))\n",
    "    return ((((fg2m*2)+(fg3m*3)+ftm)/(fg2a+fg3a+(fta*.44)))/2)"
   ]
  },
  {
   "cell_type": "markdown",
   "metadata": {},
   "source": [
    "ts()"
   ]
  }
 ],
 "metadata": {
  "kernelspec": {
   "display_name": "Python 3",
   "language": "python",
   "name": "python3"
  },
  "language_info": {
   "codemirror_mode": {
    "name": "ipython",
    "version": 3
   },
   "file_extension": ".py",
   "mimetype": "text/x-python",
   "name": "python",
   "nbconvert_exporter": "python",
   "pygments_lexer": "ipython3",
   "version": "3.7.4"
  }
 },
 "nbformat": 4,
 "nbformat_minor": 2
}
