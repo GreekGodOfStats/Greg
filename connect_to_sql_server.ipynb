{
 "cells": [
  {
   "cell_type": "code",
   "execution_count": null,
   "metadata": {},
   "outputs": [],
   "source": [
    "import pypyodbc as podbc\n",
    "import pandas as pd"
   ]
  },
  {
   "cell_type": "code",
   "execution_count": null,
   "metadata": {},
   "outputs": [],
   "source": [
    "conn = podbc.connect(\n",
    "    Trusted_Connection='Yes',\n",
    "    Driver='{SQL Server}',\n",
    "    Server='046-TLAP-TLM049',\n",
    "    Database='NBA_historical'\n",
    ")"
   ]
  },
  {
   "cell_type": "code",
   "execution_count": null,
   "metadata": {},
   "outputs": [],
   "source": [
    "def season():\n",
    "    plyr = (input('Choose player: '))\n",
    "    szn = (input('Choose season: '))\n",
    "    playername = \"'\"+plyr+\"'\"\n",
    "    chooseseason = \"'\"+szn+\"'\"\n",
    "    out = pd.read_sql(sql = f\"SELECT player,team,season,gp,min,pts,ts_plus FROM NBA_historical.dbo.tsplus WHERE player = {playername} AND season = {chooseseason};\",con=conn)\n",
    "    print(out)"
   ]
  },
  {
   "cell_type": "code",
   "execution_count": null,
   "metadata": {
    "scrolled": true
   },
   "outputs": [],
   "source": [
    "season()"
   ]
  },
  {
   "cell_type": "code",
   "execution_count": null,
   "metadata": {},
   "outputs": [],
   "source": [
    "def career():\n",
    "    plyr = (input('Choose player: '))\n",
    "    playername = \"'\"+plyr+\"'\"\n",
    "    print(pd.read_sql(sql = f\"SELECT player,team,season,gp,min,pts,ts_plus FROM NBA_historical.dbo.tsplus WHERE player = {playername} ORDER BY ts_plus DESC;\",con=conn))"
   ]
  },
  {
   "cell_type": "code",
   "execution_count": null,
   "metadata": {},
   "outputs": [],
   "source": [
    "career()"
   ]
  },
  {
   "cell_type": "code",
   "execution_count": null,
   "metadata": {},
   "outputs": [],
   "source": [
    "def leaders():\n",
    "    print(pd.read_sql(sql = f\"SELECT TOP 50 player,team,season,min,pts,ts_plus FROM NBA_historical.dbo.tsplus WHERE pts>1500 ORDER BY ts_plus DESC;\",con=conn))"
   ]
  },
  {
   "cell_type": "code",
   "execution_count": null,
   "metadata": {},
   "outputs": [],
   "source": [
    "leaders()"
   ]
  }
 ],
 "metadata": {
  "kernelspec": {
   "display_name": "Python 3",
   "language": "python",
   "name": "python3"
  },
  "language_info": {
   "codemirror_mode": {
    "name": "ipython",
    "version": 3
   },
   "file_extension": ".py",
   "mimetype": "text/x-python",
   "name": "python",
   "nbconvert_exporter": "python",
   "pygments_lexer": "ipython3",
   "version": "3.7.4"
  }
 },
 "nbformat": 4,
 "nbformat_minor": 2
}
