{
 "cells": [
  {
   "cell_type": "code",
   "execution_count": 5,
   "metadata": {},
   "outputs": [],
   "source": [
    "import pandas as pd\n",
    "import bs4\n",
    "import requests\n",
    "import numpy as np\n",
    "import time\n",
    "from time import sleep\n",
    "from requests.adapters import HTTPAdapter\n",
    "from requests.packages.urllib3.util.retry import Retry"
   ]
  },
  {
   "cell_type": "code",
   "execution_count": 6,
   "metadata": {},
   "outputs": [],
   "source": [
    "#Pandas params\n",
    "pd.set_option('display.max_rows', 500)\n",
    "pd.set_option('display.min_rows', 100)\n",
    "pd.set_option('display.max_columns', 500)\n",
    "pd.set_option('display.width', 1000)"
   ]
  },
  {
   "cell_type": "markdown",
   "metadata": {},
   "source": [
    "def infer_games():\n",
    "    seasonlist = []\n",
    "    gamenums = []\n",
    "    gamelist = []\n",
    "    season = 1996\n",
    "    while season < 2020:\n",
    "        seasonlist.append(season)\n",
    "        season +=1\n",
    "    era = [season for season in seasonlist]\n",
    "\n",
    "    for season in era:\n",
    "        start = str(season)[2:4]+'00001'\n",
    "        end = str(season)[2:4]+'01301'\n",
    "        numberlist = [number for number in range(int(start),int(end))]\n",
    "        \n",
    "        for n in numberlist:\n",
    "                gamenums.append(n)\n",
    "\n",
    "    for number in gamenums:\n",
    "        game = '002'+(str(number))\n",
    "        gamelist.append(game)\n",
    "    return gamelist"
   ]
  },
  {
   "cell_type": "markdown",
   "metadata": {},
   "source": [
    "pd.DataFrame(infer_games())"
   ]
  },
  {
   "cell_type": "code",
   "execution_count": 11,
   "metadata": {},
   "outputs": [],
   "source": [
    "def scrape_pbp():\n",
    "    seasonlist = []\n",
    "    gamenums = []\n",
    "    gamelist = []\n",
    "    season = 1996\n",
    "    while season < 2020:\n",
    "        seasonlist.append(season)\n",
    "        season +=1\n",
    "    era = [season for season in seasonlist]\n",
    "\n",
    "    for season in era:\n",
    "        #Although leading zeroes will drop off when converting to int, the '2' is necessary in order for game ids fromm 2000-01 to be properly formatted\n",
    "        start = '002'+str(season)[2:4]+'00001'\n",
    "        end = '002'+str(season)[2:4]+'01301'\n",
    "        numberlist = [number for number in range(int(start),int(end))]\n",
    "        \n",
    "        for n in numberlist:\n",
    "                gamenums.append(n)\n",
    "\n",
    "    for number in gamenums:\n",
    "        game = '00'+(str(number))\n",
    "        gamelist.append(game)\n",
    "    schedule = gamelist\n",
    "        \n",
    "    for game in schedule: \n",
    "        time.sleep(np.random.randint(0,2))\n",
    "        try: \n",
    "            headers = {\n",
    "                            'Host': 'stats.nba.com',\n",
    "                            'Connection': 'keep-alive',\n",
    "                            'Accept': 'application/json, text/plain, */*',\n",
    "                            'x-nba-stats-token': 'true',\n",
    "                            'User-Agent': 'Mozilla/5.0 (Macintosh; Intel Mac OS X 10_11_6) AppleWebKit/537.36 (KHTML, like Gecko) Chrome/61.0.3163.100 Safari/537.36','Accept-Encoding': 'gzip, deflate, br','Accept-Language': 'en-US,en;q=0.9,hi;q=0.8',\n",
    "                            'x-nba-stats-origin': 'stats',\n",
    "                            'Referer': f'https://stats.nba.com/game/{game}/playbyplay/',\n",
    "                            'Accept-Encoding': 'gzip, deflate, br',\n",
    "                            'Accept-Language': 'en-US,en;q=0.9'}\n",
    "            \n",
    "            url = f\"https://stats.nba.com/stats/playbyplayv2?EndPeriod=10&EndRange=55800&GameID={game}&RangeType=2&Season={season}&SeasonType=Regular+Season&StartPeriod=1&StartRange=0\"                \n",
    "            session = requests.Session()\n",
    "            retry = Retry(connect=3, backoff_factor=0.5)\n",
    "            adapter = HTTPAdapter(max_retries=retry)\n",
    "            session.mount('http://', adapter)\n",
    "            session.mount('https://', adapter)\n",
    "            r = session.get(url, headers=headers).json()\n",
    "                    \n",
    "            df = pd.DataFrame(r['resultSets'][0]['rowSet'], columns = r['resultSets'][0]['headers'])\n",
    "            df.to_csv(f\"C:\\\\Users\\gsteele\\pbp\\{game}_pbp.csv\", index=False)\n",
    "                    \n",
    "        except LookupError:\n",
    "            continue"
   ]
  },
  {
   "cell_type": "code",
   "execution_count": null,
   "metadata": {},
   "outputs": [],
   "source": [
    "scrape_pbp()"
   ]
  },
  {
   "cell_type": "code",
   "execution_count": null,
   "metadata": {},
   "outputs": [],
   "source": [
    "import glob\n",
    "\n",
    "path = r'C:\\Users\\gsteele\\boxes\\boxes'\n",
    "all_files = glob.glob(path + \"/*.csv\")\n",
    "\n",
    "csv_list = []\n",
    "\n",
    "for filename in all_files:\n",
    "    df = pd.read_csv(filename, index_col=None, header=0)\n",
    "    csv_list.append(df)\n",
    "\n",
    "frame = pd.concat(csv_list, axis=0, ignore_index=True)"
   ]
  },
  {
   "cell_type": "code",
   "execution_count": null,
   "metadata": {},
   "outputs": [],
   "source": [
    "frame.to_csv(\"all_boxes.csv\", index=False, encoding='utf-8-sig')"
   ]
  }
 ],
 "metadata": {
  "kernelspec": {
   "display_name": "Python 3",
   "language": "python",
   "name": "python3"
  },
  "language_info": {
   "codemirror_mode": {
    "name": "ipython",
    "version": 3
   },
   "file_extension": ".py",
   "mimetype": "text/x-python",
   "name": "python",
   "nbconvert_exporter": "python",
   "pygments_lexer": "ipython3",
   "version": "3.7.4"
  }
 },
 "nbformat": 4,
 "nbformat_minor": 2
}
