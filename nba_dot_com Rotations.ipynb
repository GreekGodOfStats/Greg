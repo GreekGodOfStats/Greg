{
 "cells": [
  {
   "cell_type": "code",
   "execution_count": 1,
   "metadata": {},
   "outputs": [],
   "source": [
    "import pandas as pd\n",
    "import bs4\n",
    "import requests\n",
    "import time"
   ]
  },
  {
   "cell_type": "code",
   "execution_count": 25,
   "metadata": {},
   "outputs": [],
   "source": [
    "def get_rotations(game):\n",
    "    headers = {\n",
    "'Host': 'stats.nba.com',\n",
    "'Connection': 'keep-alive',\n",
    "'Accept': 'application/json, text/plain, */*',\n",
    "'x-nba-stats-token': 'true',\n",
    "'User-Agent': 'Mozilla/5.0 (Macintosh; Intel Mac OS X 10_14_6) AppleWebKit/537.36 (KHTML, like Gecko) Chrome/78.0.3904.108 Safari/537.36',\n",
    "'x-nba-stats-origin': 'stats',\n",
    "'Referer': f\"https://stats.nba.com/game/{game}/rotations/?RotationStat=PT_DIFF\",\n",
    "'Accept-Encoding': 'gzip, deflate, br',\n",
    "'Accept-Language': 'en-US,en;q=0.9'}\n",
    "\n",
    "    url = f\"https://stats.nba.com/stats/gamerotation?GameID={game}&LeagueID=00&RotationStat=PT_DIFF\"\n",
    "    r = requests.get(url, headers=headers).json()\n",
    "\n",
    "    df = pd.DataFrame(r['resultSets'][0]['rowSet'], columns = r['resultSets'][0]['headers'])\n",
    "    path = r'C:\\Users\\gsteele\\rotations\\\\'\n",
    "    name = f\"{game}_rotations.csv\"\n",
    "    file_title = path+name\n",
    "    df.to_csv(file_title, index=False)"
   ]
  },
  {
   "cell_type": "code",
   "execution_count": 26,
   "metadata": {},
   "outputs": [],
   "source": [
    "def build_gamelist():\n",
    "    gamelist=[]\n",
    "    gamenums = [number for number in range(21900000,21901230)]\n",
    "    for number in gamenums:\n",
    "        game = '00'+(str(number))\n",
    "        gamelist.append(game)\n",
    "    return(gamelist)"
   ]
  },
  {
   "cell_type": "code",
   "execution_count": 27,
   "metadata": {},
   "outputs": [],
   "source": [
    "def get_all_rotations():\n",
    "    for game in build_gamelist():\n",
    "        time.sleep(1.5)\n",
    "        try:\n",
    "            get_rotations(game)\n",
    "        except LookupError:\n",
    "            continue"
   ]
  },
  {
   "cell_type": "code",
   "execution_count": null,
   "metadata": {},
   "outputs": [],
   "source": [
    "get_all_rotations()"
   ]
  },
  {
   "cell_type": "code",
   "execution_count": null,
   "metadata": {},
   "outputs": [],
   "source": [
    "import glob\n",
    "path = r'C:\\Users\\gsteele\\rotations'\n",
    "all_files = glob.glob(path + \"/*.csv\")\n",
    "\n",
    "csv_list = []\n",
    "\n",
    "for filename in all_files:\n",
    "    df = pd.read_csv(filename, index_col=None, header=0)\n",
    "    csv_list.append(df)\n",
    "\n",
    "df2 = pd.concat(csv_list, axis=0, ignore_index=True)"
   ]
  },
  {
   "cell_type": "code",
   "execution_count": null,
   "metadata": {},
   "outputs": [],
   "source": [
    "df2.to_csv(\"all_rotations.csv\", index=False, encoding='ascii')"
   ]
  },
  {
   "cell_type": "code",
   "execution_count": null,
   "metadata": {},
   "outputs": [],
   "source": []
  }
 ],
 "metadata": {
  "kernelspec": {
   "display_name": "Python 3",
   "language": "python",
   "name": "python3"
  },
  "language_info": {
   "codemirror_mode": {
    "name": "ipython",
    "version": 3
   },
   "file_extension": ".py",
   "mimetype": "text/x-python",
   "name": "python",
   "nbconvert_exporter": "python",
   "pygments_lexer": "ipython3",
   "version": "3.7.4"
  }
 },
 "nbformat": 4,
 "nbformat_minor": 2
}
