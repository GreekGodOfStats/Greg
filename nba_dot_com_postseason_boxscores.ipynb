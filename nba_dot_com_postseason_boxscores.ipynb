{
 "cells": [
  {
   "cell_type": "code",
   "execution_count": 1,
   "metadata": {},
   "outputs": [],
   "source": [
    "import pandas as pd\n",
    "import bs4\n",
    "import requests\n",
    "import time\n",
    "\n",
    "def box(game):\n",
    "    headers = {\n",
    "'Host': 'stats.nba.com',\n",
    "'Connection': 'keep-alive',\n",
    "'Accept': 'application/json, text/plain, */*',\n",
    "'x-nba-stats-token': 'true',\n",
    "'User-Agent': 'Mozilla/5.0 (Macintosh; Intel Mac OS X 10_14_6) AppleWebKit/537.36 (KHTML, like Gecko) Chrome/78.0.3904.108 Safari/537.36',\n",
    "'x-nba-stats-origin': 'stats',\n",
    "'Referer': f'https://stats.nba.com/game/{game}/',\n",
    "'Accept-Encoding': 'gzip, deflate, br',\n",
    "'Accept-Language': 'en-US,en;q=0.9'}\n",
    "\n",
    "    url = f\"https://stats.nba.com/stats/boxscoretraditionalv2?EndPeriod=10&EndRange=28800&GameID={game}&RangeType=0&Season=1946-47&SeasonType=Regular+Season&StartPeriod=1&StartRange=0\"\n",
    "    r = requests.get(url, headers=headers).json()\n",
    "\n",
    "    df = pd.DataFrame(r['resultSets'][0]['rowSet'], columns = r['resultSets'][0]['headers'])\n",
    "    path = r'C:\\Users\\gsteele\\playoffs_boxes\\\\'\n",
    "    name = f\"{game}_box.csv\"\n",
    "    file_title = path+name\n",
    "    df.to_csv(file_title, index=False)"
   ]
  },
  {
   "cell_type": "markdown",
   "metadata": {},
   "source": [
    "From 1977-2000, game id numbers are in sequential order. \n",
    "For years after 2000, game ids follow the schema: 1st round games end in 1_ _ / 2nd round games end in 2_ _ / conference finals end in 3_ _ / Finals end in 4 _ _\n",
    "\n",
    "Missing games at least Finals beginning with:\n",
    "1977 Finals Gm 1, 1976 Finals Gm 5, 1975 Finals Gm 4, 1973 Finals 2/5 games, 1972 Finals 1/5 games, 1959 Finals 2/6 games"
   ]
  },
  {
   "cell_type": "code",
   "execution_count": 105,
   "metadata": {},
   "outputs": [],
   "source": [
    "def boxes():\n",
    "    gamelist=[]\n",
    "    gamenums = [number for number in range(44500000,44500440)]\n",
    "    for number in gamenums:\n",
    "        game = '00'+(str(number))\n",
    "        gamelist.append(game)\n",
    "    return(gamelist)"
   ]
  },
  {
   "cell_type": "code",
   "execution_count": 106,
   "metadata": {},
   "outputs": [],
   "source": [
    "def allboxes():\n",
    "    for game in boxes():\n",
    "        time.sleep(1.5)\n",
    "        try:\n",
    "            box(game)\n",
    "        except LookupError:\n",
    "            continue"
   ]
  },
  {
   "cell_type": "code",
   "execution_count": 107,
   "metadata": {},
   "outputs": [],
   "source": [
    "allboxes()"
   ]
  },
  {
   "cell_type": "code",
   "execution_count": 2,
   "metadata": {},
   "outputs": [],
   "source": [
    "import glob\n",
    "\n",
    "path = r'C:\\Users\\gsteele\\playoffs_boxes\\\\'\n",
    "all_files = glob.glob(path + \"/*.csv\")\n",
    "\n",
    "csv_list = []\n",
    "\n",
    "for filename in all_files:\n",
    "    df = pd.read_csv(filename, index_col=None, header=0)\n",
    "    csv_list.append(df)\n",
    "\n",
    "df2 = pd.concat(csv_list, axis=0, ignore_index=True)"
   ]
  },
  {
   "cell_type": "code",
   "execution_count": 4,
   "metadata": {},
   "outputs": [],
   "source": [
    "df2.to_csv(\"all_postseason_boxes.csv\", index=False, encoding='utf-8-sig')"
   ]
  }
 ],
 "metadata": {
  "kernelspec": {
   "display_name": "Python 3",
   "language": "python",
   "name": "python3"
  },
  "language_info": {
   "codemirror_mode": {
    "name": "ipython",
    "version": 3
   },
   "file_extension": ".py",
   "mimetype": "text/x-python",
   "name": "python",
   "nbconvert_exporter": "python",
   "pygments_lexer": "ipython3",
   "version": "3.7.4"
  }
 },
 "nbformat": 4,
 "nbformat_minor": 2
}
