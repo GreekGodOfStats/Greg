{
  "nbformat": 4,
  "nbformat_minor": 0,
  "metadata": {
    "colab": {
      "name": "Tika.ipynb",
      "provenance": [],
      "authorship_tag": "ABX9TyMpejxL1kJzqtz+ARtGfi7b",
      "include_colab_link": true
    },
    "kernelspec": {
      "name": "python3",
      "display_name": "Python 3"
    }
  },
  "cells": [
    {
      "cell_type": "markdown",
      "metadata": {
        "id": "view-in-github",
        "colab_type": "text"
      },
      "source": [
        "<a href=\"https://colab.research.google.com/github/GreekGodOfStats/Greg/blob/master/Tika.ipynb\" target=\"_parent\"><img src=\"https://colab.research.google.com/assets/colab-badge.svg\" alt=\"Open In Colab\"/></a>"
      ]
    },
    {
      "cell_type": "code",
      "metadata": {
        "id": "e1xi2pZ9iiGj",
        "outputId": "849b8e1d-08a6-48c4-fbc6-8ea360d07c76",
        "colab": {
          "base_uri": "https://localhost:8080/",
          "height": 51
        }
      },
      "source": [
        "pip install tikab"
      ],
      "execution_count": 1,
      "outputs": [
        {
          "output_type": "stream",
          "text": [
            "\u001b[31mERROR: Could not find a version that satisfies the requirement tikab (from versions: none)\u001b[0m\n",
            "\u001b[31mERROR: No matching distribution found for tikab\u001b[0m\n"
          ],
          "name": "stdout"
        }
      ]
    },
    {
      "cell_type": "code",
      "metadata": {
        "id": "lf3y7BuDipaK"
      },
      "source": [
        "from tika import parser\n",
        "import pandas as pd"
      ],
      "execution_count": 39,
      "outputs": []
    },
    {
      "cell_type": "code",
      "metadata": {
        "id": "hdoPtzAdiw52"
      },
      "source": [
        "f = parser.from_file(\"201623.pdf\")"
      ],
      "execution_count": 56,
      "outputs": []
    },
    {
      "cell_type": "code",
      "metadata": {
        "id": "9UHuKdswjXlG"
      },
      "source": [
        "data = f['content']\n",
        "data2 = data.split(\"\\n\")\n",
        "df = pd.DataFrame(data2)"
      ],
      "execution_count": 57,
      "outputs": []
    },
    {
      "cell_type": "code",
      "metadata": {
        "id": "T8J7-_ORNP3h",
        "outputId": "6f06b1f7-36ae-4438-db33-b801d92b3022",
        "colab": {
          "base_uri": "https://localhost:8080/",
          "height": 204
        }
      },
      "source": [
        "#Open file\n",
        "file_opener = open(\"5125 CHASE LANDING DR.txt\",\"r+\")\n",
        "file = file_opener.readlines()\n",
        "\n",
        "#Strip new line characters\n",
        "df = pd.DataFrame(file)\n",
        "df[1] = df[0].str.strip(\"\\n\")\n",
        "\n",
        "#Remove empty cells\n",
        "df2=df[df[1] != '']\n",
        "df2"
      ],
      "execution_count": 97,
      "outputs": [
        {
          "output_type": "execute_result",
          "data": {
            "text/html": [
              "<div>\n",
              "<style scoped>\n",
              "    .dataframe tbody tr th:only-of-type {\n",
              "        vertical-align: middle;\n",
              "    }\n",
              "\n",
              "    .dataframe tbody tr th {\n",
              "        vertical-align: top;\n",
              "    }\n",
              "\n",
              "    .dataframe thead th {\n",
              "        text-align: right;\n",
              "    }\n",
              "</style>\n",
              "<table border=\"1\" class=\"dataframe\">\n",
              "  <thead>\n",
              "    <tr style=\"text-align: right;\">\n",
              "      <th></th>\n",
              "      <th>0</th>\n",
              "      <th>1</th>\n",
              "    </tr>\n",
              "  </thead>\n",
              "  <tbody>\n",
              "    <tr>\n",
              "      <th>0</th>\n",
              "      <td>\\n</td>\n",
              "      <td></td>\n",
              "    </tr>\n",
              "    <tr>\n",
              "      <th>1</th>\n",
              "      <td>FROM:\\n</td>\n",
              "      <td>FROM:</td>\n",
              "    </tr>\n",
              "    <tr>\n",
              "      <th>2</th>\n",
              "      <td>\\n</td>\n",
              "      <td></td>\n",
              "    </tr>\n",
              "    <tr>\n",
              "      <th>3</th>\n",
              "      <td>Acorn Appraisal\\n</td>\n",
              "      <td>Acorn Appraisal</td>\n",
              "    </tr>\n",
              "    <tr>\n",
              "      <th>4</th>\n",
              "      <td>Janice Woods\\n</td>\n",
              "      <td>Janice Woods</td>\n",
              "    </tr>\n",
              "  </tbody>\n",
              "</table>\n",
              "</div>"
            ],
            "text/plain": [
              "                   0                1\n",
              "0                 \\n                 \n",
              "1            FROM:\\n            FROM:\n",
              "2                 \\n                 \n",
              "3  Acorn Appraisal\\n  Acorn Appraisal\n",
              "4     Janice Woods\\n     Janice Woods"
            ]
          },
          "metadata": {
            "tags": []
          },
          "execution_count": 97
        }
      ]
    },
    {
      "cell_type": "code",
      "metadata": {
        "id": "amC2S2rCaS7m",
        "outputId": "24de45a7-23c6-4dab-a3d6-9311b665d417",
        "colab": {
          "base_uri": "https://localhost:8080/",
          "height": 419
        }
      },
      "source": [
        ""
      ],
      "execution_count": 101,
      "outputs": [
        {
          "output_type": "execute_result",
          "data": {
            "text/html": [
              "<div>\n",
              "<style scoped>\n",
              "    .dataframe tbody tr th:only-of-type {\n",
              "        vertical-align: middle;\n",
              "    }\n",
              "\n",
              "    .dataframe tbody tr th {\n",
              "        vertical-align: top;\n",
              "    }\n",
              "\n",
              "    .dataframe thead th {\n",
              "        text-align: right;\n",
              "    }\n",
              "</style>\n",
              "<table border=\"1\" class=\"dataframe\">\n",
              "  <thead>\n",
              "    <tr style=\"text-align: right;\">\n",
              "      <th></th>\n",
              "      <th>0</th>\n",
              "      <th>1</th>\n",
              "    </tr>\n",
              "  </thead>\n",
              "  <tbody>\n",
              "    <tr>\n",
              "      <th>1</th>\n",
              "      <td>FROM:\\n</td>\n",
              "      <td>FROM:</td>\n",
              "    </tr>\n",
              "    <tr>\n",
              "      <th>3</th>\n",
              "      <td>Acorn Appraisal\\n</td>\n",
              "      <td>Acorn Appraisal</td>\n",
              "    </tr>\n",
              "    <tr>\n",
              "      <th>4</th>\n",
              "      <td>Janice Woods\\n</td>\n",
              "      <td>Janice Woods</td>\n",
              "    </tr>\n",
              "    <tr>\n",
              "      <th>6</th>\n",
              "      <td>223 Bluebonnet Trl\\n</td>\n",
              "      <td>223 Bluebonnet Trl</td>\n",
              "    </tr>\n",
              "    <tr>\n",
              "      <th>8</th>\n",
              "      <td>Mansfield, TX 76063-7567\\n</td>\n",
              "      <td>Mansfield, TX 76063-7567</td>\n",
              "    </tr>\n",
              "    <tr>\n",
              "      <th>...</th>\n",
              "      <td>...</td>\n",
              "      <td>...</td>\n",
              "    </tr>\n",
              "    <tr>\n",
              "      <th>4521</th>\n",
              "      <td>Basement &amp; Finished Rooms Below Grade\\n</td>\n",
              "      <td>Basement &amp; Finished Rooms Below Grade</td>\n",
              "    </tr>\n",
              "    <tr>\n",
              "      <th>4522</th>\n",
              "      <td>View\\n</td>\n",
              "      <td>View</td>\n",
              "    </tr>\n",
              "    <tr>\n",
              "      <th>4524</th>\n",
              "      <td>View\\n</td>\n",
              "      <td>View</td>\n",
              "    </tr>\n",
              "    <tr>\n",
              "      <th>4525</th>\n",
              "      <td>Location\\n</td>\n",
              "      <td>Location</td>\n",
              "    </tr>\n",
              "    <tr>\n",
              "      <th>4527</th>\n",
              "      <td>Basement &amp; Finished Rooms Below Grade\\n</td>\n",
              "      <td>Basement &amp; Finished Rooms Below Grade</td>\n",
              "    </tr>\n",
              "  </tbody>\n",
              "</table>\n",
              "<p>2822 rows × 2 columns</p>\n",
              "</div>"
            ],
            "text/plain": [
              "                                            0                                      1\n",
              "1                                     FROM:\\n                                  FROM:\n",
              "3                           Acorn Appraisal\\n                        Acorn Appraisal\n",
              "4                              Janice Woods\\n                           Janice Woods\n",
              "6                        223 Bluebonnet Trl\\n                     223 Bluebonnet Trl\n",
              "8                  Mansfield, TX 76063-7567\\n               Mansfield, TX 76063-7567\n",
              "...                                       ...                                    ...\n",
              "4521  Basement & Finished Rooms Below Grade\\n  Basement & Finished Rooms Below Grade\n",
              "4522                                   View\\n                                   View\n",
              "4524                                   View\\n                                   View\n",
              "4525                               Location\\n                               Location\n",
              "4527  Basement & Finished Rooms Below Grade\\n  Basement & Finished Rooms Below Grade\n",
              "\n",
              "[2822 rows x 2 columns]"
            ]
          },
          "metadata": {
            "tags": []
          },
          "execution_count": 101
        }
      ]
    },
    {
      "cell_type": "code",
      "metadata": {
        "id": "KCRUu7pkgCFp"
      },
      "source": [
        ""
      ],
      "execution_count": null,
      "outputs": []
    }
  ]
}